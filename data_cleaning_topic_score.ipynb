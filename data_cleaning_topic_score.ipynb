{
  "nbformat": 4,
  "nbformat_minor": 0,
  "metadata": {
    "colab": {
      "name": "US_PRESIDENT.ipynb",
      "provenance": []
    },
    "kernelspec": {
      "name": "python3",
      "display_name": "Python 3"
    },
    "language_info": {
      "name": "python"
    }
  },
  "cells": [
    {
      "cell_type": "code",
      "metadata": {
        "colab": {
          "base_uri": "https://localhost:8080/"
        },
        "id": "IOqJto1wuKdB",
        "outputId": "7bf7b394-eb06-49f5-be23-8692a7bf96bb"
      },
      "source": [
        "!pip install pyLDAvis\n",
        "import nltk\n",
        "nltk.download('punkt')\n",
        "from nltk import sent_tokenize,word_tokenize\n",
        "from nltk import regexp_tokenize\n",
        "from nltk.corpus import stopwords\n",
        "from nltk.corpus import wordnet\n",
        "\n",
        "\n",
        "import matplotlib.pyplot as plt\n",
        "import gensim\n",
        "import numpy as np\n",
        "import spacy\n",
        "\n",
        "from gensim.models import CoherenceModel, LdaModel, LsiModel, HdpModel\n",
        "from gensim.models.wrappers import LdaMallet\n",
        "from gensim.corpora import Dictionary\n",
        "import pyLDAvis\n",
        "import pyLDAvis.gensim_models as gensimvis\n",
        "pyLDAvis.enable_notebook()\n",
        "\n",
        "\n",
        "import os, re, operator, warnings\n",
        "warnings.filterwarnings('ignore')\n",
        "%matplotlib inline\n",
        "\n",
        "\n",
        "nltk.download('stopwords')\n",
        "nltk.download('wordnet')\n",
        "import pandas as pd"
      ],
      "execution_count": null,
      "outputs": [
        {
          "output_type": "stream",
          "name": "stdout",
          "text": [
            "Requirement already satisfied: pyLDAvis in /usr/local/lib/python3.7/dist-packages (3.3.1)\n",
            "Requirement already satisfied: joblib in /usr/local/lib/python3.7/dist-packages (from pyLDAvis) (1.1.0)\n",
            "Requirement already satisfied: sklearn in /usr/local/lib/python3.7/dist-packages (from pyLDAvis) (0.0)\n",
            "Requirement already satisfied: scikit-learn in /usr/local/lib/python3.7/dist-packages (from pyLDAvis) (1.0.1)\n",
            "Requirement already satisfied: jinja2 in /usr/local/lib/python3.7/dist-packages (from pyLDAvis) (2.11.3)\n",
            "Requirement already satisfied: gensim in /usr/local/lib/python3.7/dist-packages (from pyLDAvis) (3.6.0)\n",
            "Requirement already satisfied: scipy in /usr/local/lib/python3.7/dist-packages (from pyLDAvis) (1.4.1)\n",
            "Requirement already satisfied: future in /usr/local/lib/python3.7/dist-packages (from pyLDAvis) (0.16.0)\n",
            "Requirement already satisfied: funcy in /usr/local/lib/python3.7/dist-packages (from pyLDAvis) (1.16)\n",
            "Requirement already satisfied: setuptools in /usr/local/lib/python3.7/dist-packages (from pyLDAvis) (57.4.0)\n",
            "Requirement already satisfied: pandas>=1.2.0 in /usr/local/lib/python3.7/dist-packages (from pyLDAvis) (1.3.4)\n",
            "Requirement already satisfied: numexpr in /usr/local/lib/python3.7/dist-packages (from pyLDAvis) (2.7.3)\n",
            "Requirement already satisfied: numpy>=1.20.0 in /usr/local/lib/python3.7/dist-packages (from pyLDAvis) (1.21.4)\n",
            "Requirement already satisfied: python-dateutil>=2.7.3 in /usr/local/lib/python3.7/dist-packages (from pandas>=1.2.0->pyLDAvis) (2.8.2)\n",
            "Requirement already satisfied: pytz>=2017.3 in /usr/local/lib/python3.7/dist-packages (from pandas>=1.2.0->pyLDAvis) (2018.9)\n",
            "Requirement already satisfied: six>=1.5 in /usr/local/lib/python3.7/dist-packages (from python-dateutil>=2.7.3->pandas>=1.2.0->pyLDAvis) (1.15.0)\n",
            "Requirement already satisfied: smart-open>=1.2.1 in /usr/local/lib/python3.7/dist-packages (from gensim->pyLDAvis) (5.2.1)\n",
            "Requirement already satisfied: MarkupSafe>=0.23 in /usr/local/lib/python3.7/dist-packages (from jinja2->pyLDAvis) (2.0.1)\n",
            "Requirement already satisfied: threadpoolctl>=2.0.0 in /usr/local/lib/python3.7/dist-packages (from scikit-learn->pyLDAvis) (3.0.0)\n",
            "[nltk_data] Downloading package punkt to /root/nltk_data...\n",
            "[nltk_data]   Package punkt is already up-to-date!\n",
            "[nltk_data] Downloading package stopwords to /root/nltk_data...\n",
            "[nltk_data]   Package stopwords is already up-to-date!\n",
            "[nltk_data] Downloading package wordnet to /root/nltk_data...\n",
            "[nltk_data]   Package wordnet is already up-to-date!\n"
          ]
        },
        {
          "output_type": "stream",
          "name": "stderr",
          "text": [
            "/usr/local/lib/python3.7/dist-packages/past/types/oldstr.py:5: DeprecationWarning: Using or importing the ABCs from 'collections' instead of from 'collections.abc' is deprecated since Python 3.3,and in 3.9 it will stop working\n",
            "  from collections import Iterable\n"
          ]
        }
      ]
    },
    {
      "cell_type": "code",
      "metadata": {
        "colab": {
          "base_uri": "https://localhost:8080/"
        },
        "id": "LR5woFNWuOQN",
        "outputId": "d7e42e32-c4d2-41d8-e00d-0f465caac9d6"
      },
      "source": [
        "from google.colab import drive\n",
        "drive.mount('/content/drive')"
      ],
      "execution_count": null,
      "outputs": [
        {
          "output_type": "stream",
          "name": "stdout",
          "text": [
            "Drive already mounted at /content/drive; to attempt to forcibly remount, call drive.mount(\"/content/drive\", force_remount=True).\n"
          ]
        }
      ]
    },
    {
      "cell_type": "code",
      "metadata": {
        "id": "jRo8aVy4uOTE"
      },
      "source": [
        "df = pd.read_csv(\"/content/drive/MyDrive/us_president_speeches/presidential_speeches.csv\")"
      ],
      "execution_count": null,
      "outputs": []
    },
    {
      "cell_type": "code",
      "metadata": {
        "id": "i0-jhBOsuOVu"
      },
      "source": [
        "df.isnull().sum()\n",
        "df['Transcript'] = df['Transcript'].fillna('Not Available')"
      ],
      "execution_count": null,
      "outputs": []
    },
    {
      "cell_type": "code",
      "metadata": {
        "colab": {
          "base_uri": "https://localhost:8080/"
        },
        "id": "TMbYvZw2uOYQ",
        "outputId": "8123b5c0-1b26-4fe9-c8cc-051b0838e533"
      },
      "source": [
        "df['President'].value_counts(sort =True,ascending =False)"
      ],
      "execution_count": null,
      "outputs": [
        {
          "output_type": "execute_result",
          "data": {
            "text/plain": [
              "Lyndon B. Johnson        71\n",
              "Ronald Reagan            59\n",
              "Barack Obama             50\n",
              "Franklin D. Roosevelt    49\n",
              "John F. Kennedy          44\n",
              "George W. Bush           39\n",
              "Bill Clinton             39\n",
              "Woodrow Wilson           33\n",
              "Ulysses S. Grant         32\n",
              "Andrew Johnson           31\n",
              "Herbert Hoover           30\n",
              "Grover Cleveland         30\n",
              "Andrew Jackson           26\n",
              "James K. Polk            25\n",
              "Thomas Jefferson         24\n",
              "Benjamin Harrison        23\n",
              "Richard M. Nixon         23\n",
              "George H. W. Bush        23\n",
              "Jimmy Carter             22\n",
              "James Madison            22\n",
              "Theodore Roosevelt       22\n",
              "George Washington        21\n",
              "Donald Trump             19\n",
              "Harry S. Truman          19\n",
              "John Tyler               18\n",
              "Warren G. Harding        18\n",
              "Rutherford B. Hayes      16\n",
              "Franklin Pierce          15\n",
              "Abraham Lincoln          15\n",
              "James Buchanan           14\n",
              "William McKinley         14\n",
              "Gerald Ford              14\n",
              "William Taft             12\n",
              "Calvin Coolidge          12\n",
              "Chester A. Arthur        11\n",
              "James Monroe             10\n",
              "Martin Van Buren         10\n",
              "John Quincy Adams         9\n",
              "John Adams                9\n",
              "Millard Fillmore          7\n",
              "Dwight D. Eisenhower      6\n",
              "Zachary Taylor            4\n",
              "William Harrison          1\n",
              "James A. Garfield         1\n",
              "Name: President, dtype: int64"
            ]
          },
          "metadata": {},
          "execution_count": 5
        }
      ]
    },
    {
      "cell_type": "code",
      "source": [
        "num_speeches = df['President'].value_counts(sort =True,ascending =False).values\n",
        "print(len(num_speeches))\n",
        "print(sum(num_speeches))\n",
        "print(\"Average number of speeches by presidents:\",sum(num_speeches)/len(num_speeches))"
      ],
      "metadata": {
        "colab": {
          "base_uri": "https://localhost:8080/"
        },
        "id": "Yey342Tw0OxD",
        "outputId": "4860649b-81c6-4040-b031-7431e45caa1f"
      },
      "execution_count": null,
      "outputs": [
        {
          "output_type": "stream",
          "name": "stdout",
          "text": [
            "44\n",
            "992\n",
            "Average number of speeches by presidents: 22.545454545454547\n"
          ]
        }
      ]
    },
    {
      "cell_type": "code",
      "metadata": {
        "colab": {
          "base_uri": "https://localhost:8080/",
          "height": 206
        },
        "id": "bR1EtXcA7PoT",
        "outputId": "addc4606-e924-4d2b-d256-9b3906bf9356"
      },
      "source": [
        "df.head()"
      ],
      "execution_count": null,
      "outputs": [
        {
          "output_type": "execute_result",
          "data": {
            "text/html": [
              "<div>\n",
              "<style scoped>\n",
              "    .dataframe tbody tr th:only-of-type {\n",
              "        vertical-align: middle;\n",
              "    }\n",
              "\n",
              "    .dataframe tbody tr th {\n",
              "        vertical-align: top;\n",
              "    }\n",
              "\n",
              "    .dataframe thead th {\n",
              "        text-align: right;\n",
              "    }\n",
              "</style>\n",
              "<table border=\"1\" class=\"dataframe\">\n",
              "  <thead>\n",
              "    <tr style=\"text-align: right;\">\n",
              "      <th></th>\n",
              "      <th>Date</th>\n",
              "      <th>President</th>\n",
              "      <th>Party</th>\n",
              "      <th>Speech Title</th>\n",
              "      <th>Summary</th>\n",
              "      <th>Transcript</th>\n",
              "      <th>URL</th>\n",
              "    </tr>\n",
              "  </thead>\n",
              "  <tbody>\n",
              "    <tr>\n",
              "      <th>0</th>\n",
              "      <td>1789-04-30</td>\n",
              "      <td>George Washington</td>\n",
              "      <td>Unaffiliated</td>\n",
              "      <td>First Inaugural Address</td>\n",
              "      <td>Washington calls on Congress to avoid local an...</td>\n",
              "      <td>Fellow Citizens of the Senate and the House of...</td>\n",
              "      <td>https://millercenter.org/the-presidency/presid...</td>\n",
              "    </tr>\n",
              "    <tr>\n",
              "      <th>1</th>\n",
              "      <td>1789-10-03</td>\n",
              "      <td>George Washington</td>\n",
              "      <td>Unaffiliated</td>\n",
              "      <td>Thanksgiving Proclamation</td>\n",
              "      <td>At the request of Congress, Washington establi...</td>\n",
              "      <td>Whereas it is the duty of all Nations to ackno...</td>\n",
              "      <td>https://millercenter.org/the-presidency/presid...</td>\n",
              "    </tr>\n",
              "    <tr>\n",
              "      <th>2</th>\n",
              "      <td>1790-01-08</td>\n",
              "      <td>George Washington</td>\n",
              "      <td>Unaffiliated</td>\n",
              "      <td>First Annual Message to Congress</td>\n",
              "      <td>In a wide ranging speech, President Washington...</td>\n",
              "      <td>Fellow Citizens of the Senate and House of Rep...</td>\n",
              "      <td>https://millercenter.org/the-presidency/presid...</td>\n",
              "    </tr>\n",
              "    <tr>\n",
              "      <th>3</th>\n",
              "      <td>1790-12-08</td>\n",
              "      <td>George Washington</td>\n",
              "      <td>Unaffiliated</td>\n",
              "      <td>Second Annual Message to Congress</td>\n",
              "      <td>Washington focuses on commerce in his second a...</td>\n",
              "      <td>Fellow citizens of the Senate and House of Rep...</td>\n",
              "      <td>https://millercenter.org/the-presidency/presid...</td>\n",
              "    </tr>\n",
              "    <tr>\n",
              "      <th>4</th>\n",
              "      <td>1790-12-29</td>\n",
              "      <td>George Washington</td>\n",
              "      <td>Unaffiliated</td>\n",
              "      <td>Talk to the Chiefs and Counselors of the Senec...</td>\n",
              "      <td>The President reassures the Seneca Nation that...</td>\n",
              "      <td>I the President of the United States, by my ow...</td>\n",
              "      <td>https://millercenter.org/the-presidency/presid...</td>\n",
              "    </tr>\n",
              "  </tbody>\n",
              "</table>\n",
              "</div>"
            ],
            "text/plain": [
              "         Date  ...                                                URL\n",
              "0  1789-04-30  ...  https://millercenter.org/the-presidency/presid...\n",
              "1  1789-10-03  ...  https://millercenter.org/the-presidency/presid...\n",
              "2  1790-01-08  ...  https://millercenter.org/the-presidency/presid...\n",
              "3  1790-12-08  ...  https://millercenter.org/the-presidency/presid...\n",
              "4  1790-12-29  ...  https://millercenter.org/the-presidency/presid...\n",
              "\n",
              "[5 rows x 7 columns]"
            ]
          },
          "metadata": {},
          "execution_count": 8
        }
      ]
    },
    {
      "cell_type": "code",
      "metadata": {
        "id": "MIxL9w8QvVfE"
      },
      "source": [
        "import re\n",
        "import string\n",
        "\n",
        "def dataframe_clean(text):\n",
        "   \n",
        "    text = text.lower()\n",
        "    text = re.sub('\\[.*?\\]', '', text)\n",
        "    text = re.sub('[%s]' % re.escape(string.punctuation), '', text)\n",
        "    text = re.sub('\\w*\\d\\w*', '', text)\n",
        "    text = re.sub('[‘’“”…]', '', text)\n",
        "    text = re.sub('\\n', '', text)\n",
        "    return text\n",
        "\n",
        "abc = lambda x: dataframe_clean(x)\n"
      ],
      "execution_count": null,
      "outputs": []
    },
    {
      "cell_type": "code",
      "metadata": {
        "colab": {
          "base_uri": "https://localhost:8080/",
          "height": 293
        },
        "id": "CWNLKwRP7GHw",
        "outputId": "4246ddc8-4ab2-48e7-b65c-f72458183350"
      },
      "source": [
        "df['transcript_clean'] = df['Transcript'].apply(abc)\n",
        "df.head()"
      ],
      "execution_count": null,
      "outputs": [
        {
          "output_type": "execute_result",
          "data": {
            "text/html": [
              "<div>\n",
              "<style scoped>\n",
              "    .dataframe tbody tr th:only-of-type {\n",
              "        vertical-align: middle;\n",
              "    }\n",
              "\n",
              "    .dataframe tbody tr th {\n",
              "        vertical-align: top;\n",
              "    }\n",
              "\n",
              "    .dataframe thead th {\n",
              "        text-align: right;\n",
              "    }\n",
              "</style>\n",
              "<table border=\"1\" class=\"dataframe\">\n",
              "  <thead>\n",
              "    <tr style=\"text-align: right;\">\n",
              "      <th></th>\n",
              "      <th>Date</th>\n",
              "      <th>President</th>\n",
              "      <th>Party</th>\n",
              "      <th>Speech Title</th>\n",
              "      <th>Summary</th>\n",
              "      <th>Transcript</th>\n",
              "      <th>URL</th>\n",
              "      <th>transcript_clean</th>\n",
              "    </tr>\n",
              "  </thead>\n",
              "  <tbody>\n",
              "    <tr>\n",
              "      <th>0</th>\n",
              "      <td>1789-04-30</td>\n",
              "      <td>George Washington</td>\n",
              "      <td>Unaffiliated</td>\n",
              "      <td>First Inaugural Address</td>\n",
              "      <td>Washington calls on Congress to avoid local an...</td>\n",
              "      <td>Fellow Citizens of the Senate and the House of...</td>\n",
              "      <td>https://millercenter.org/the-presidency/presid...</td>\n",
              "      <td>fellow citizens of the senate and the house of...</td>\n",
              "    </tr>\n",
              "    <tr>\n",
              "      <th>1</th>\n",
              "      <td>1789-10-03</td>\n",
              "      <td>George Washington</td>\n",
              "      <td>Unaffiliated</td>\n",
              "      <td>Thanksgiving Proclamation</td>\n",
              "      <td>At the request of Congress, Washington establi...</td>\n",
              "      <td>Whereas it is the duty of all Nations to ackno...</td>\n",
              "      <td>https://millercenter.org/the-presidency/presid...</td>\n",
              "      <td>whereas it is the duty of all nations to ackno...</td>\n",
              "    </tr>\n",
              "    <tr>\n",
              "      <th>2</th>\n",
              "      <td>1790-01-08</td>\n",
              "      <td>George Washington</td>\n",
              "      <td>Unaffiliated</td>\n",
              "      <td>First Annual Message to Congress</td>\n",
              "      <td>In a wide ranging speech, President Washington...</td>\n",
              "      <td>Fellow Citizens of the Senate and House of Rep...</td>\n",
              "      <td>https://millercenter.org/the-presidency/presid...</td>\n",
              "      <td>fellow citizens of the senate and house of rep...</td>\n",
              "    </tr>\n",
              "    <tr>\n",
              "      <th>3</th>\n",
              "      <td>1790-12-08</td>\n",
              "      <td>George Washington</td>\n",
              "      <td>Unaffiliated</td>\n",
              "      <td>Second Annual Message to Congress</td>\n",
              "      <td>Washington focuses on commerce in his second a...</td>\n",
              "      <td>Fellow citizens of the Senate and House of Rep...</td>\n",
              "      <td>https://millercenter.org/the-presidency/presid...</td>\n",
              "      <td>fellow citizens of the senate and house of rep...</td>\n",
              "    </tr>\n",
              "    <tr>\n",
              "      <th>4</th>\n",
              "      <td>1790-12-29</td>\n",
              "      <td>George Washington</td>\n",
              "      <td>Unaffiliated</td>\n",
              "      <td>Talk to the Chiefs and Counselors of the Senec...</td>\n",
              "      <td>The President reassures the Seneca Nation that...</td>\n",
              "      <td>I the President of the United States, by my ow...</td>\n",
              "      <td>https://millercenter.org/the-presidency/presid...</td>\n",
              "      <td>i the president of the united states by my own...</td>\n",
              "    </tr>\n",
              "  </tbody>\n",
              "</table>\n",
              "</div>"
            ],
            "text/plain": [
              "         Date  ...                                   transcript_clean\n",
              "0  1789-04-30  ...  fellow citizens of the senate and the house of...\n",
              "1  1789-10-03  ...  whereas it is the duty of all nations to ackno...\n",
              "2  1790-01-08  ...  fellow citizens of the senate and house of rep...\n",
              "3  1790-12-08  ...  fellow citizens of the senate and house of rep...\n",
              "4  1790-12-29  ...  i the president of the united states by my own...\n",
              "\n",
              "[5 rows x 8 columns]"
            ]
          },
          "metadata": {},
          "execution_count": 10
        }
      ]
    },
    {
      "cell_type": "code",
      "metadata": {
        "id": "Zi75e8rs7eUi"
      },
      "source": [
        "from tqdm.notebook import tqdm\n",
        "from tqdm import tqdm\n",
        "df_clean = df\n",
        "import spacy\n",
        "nlp = spacy.load('en')\n",
        "\n",
        "\n",
        "def generate_tokens(df,column):\n",
        "  skl_text = []\n",
        "  line = []\n",
        "  for i in tqdm(df[column]):\n",
        "    doc = nlp(i.lower())\n",
        "    for word in doc:\n",
        "        if (not word.is_stop and len(word)>2 ):\n",
        "            line.append(word.lemma_)\n",
        "    skl_text.append(line)\n",
        "    line = []\n",
        "  return skl_text\n"
      ],
      "execution_count": null,
      "outputs": []
    },
    {
      "cell_type": "code",
      "metadata": {
        "colab": {
          "base_uri": "https://localhost:8080/",
          "height": 310
        },
        "id": "60xrs_EK746Y",
        "outputId": "2eef975d-66df-4225-8a2d-ea4bbd5101ea"
      },
      "source": [
        "df_clean['transcript_tokens'] = generate_tokens(df_clean,'transcript_clean')\n",
        "df_clean.head()"
      ],
      "execution_count": null,
      "outputs": [
        {
          "output_type": "stream",
          "name": "stderr",
          "text": [
            "100%|██████████| 992/992 [09:20<00:00,  1.77it/s]\n"
          ]
        },
        {
          "output_type": "execute_result",
          "data": {
            "text/html": [
              "<div>\n",
              "<style scoped>\n",
              "    .dataframe tbody tr th:only-of-type {\n",
              "        vertical-align: middle;\n",
              "    }\n",
              "\n",
              "    .dataframe tbody tr th {\n",
              "        vertical-align: top;\n",
              "    }\n",
              "\n",
              "    .dataframe thead th {\n",
              "        text-align: right;\n",
              "    }\n",
              "</style>\n",
              "<table border=\"1\" class=\"dataframe\">\n",
              "  <thead>\n",
              "    <tr style=\"text-align: right;\">\n",
              "      <th></th>\n",
              "      <th>Date</th>\n",
              "      <th>President</th>\n",
              "      <th>Party</th>\n",
              "      <th>Speech Title</th>\n",
              "      <th>Summary</th>\n",
              "      <th>Transcript</th>\n",
              "      <th>URL</th>\n",
              "      <th>transcript_clean</th>\n",
              "      <th>transcript_tokens</th>\n",
              "    </tr>\n",
              "  </thead>\n",
              "  <tbody>\n",
              "    <tr>\n",
              "      <th>0</th>\n",
              "      <td>1789-04-30</td>\n",
              "      <td>George Washington</td>\n",
              "      <td>Unaffiliated</td>\n",
              "      <td>First Inaugural Address</td>\n",
              "      <td>Washington calls on Congress to avoid local an...</td>\n",
              "      <td>Fellow Citizens of the Senate and the House of...</td>\n",
              "      <td>https://millercenter.org/the-presidency/presid...</td>\n",
              "      <td>fellow citizens of the senate and the house of...</td>\n",
              "      <td>[fellow, citizen, senate, house, representativ...</td>\n",
              "    </tr>\n",
              "    <tr>\n",
              "      <th>1</th>\n",
              "      <td>1789-10-03</td>\n",
              "      <td>George Washington</td>\n",
              "      <td>Unaffiliated</td>\n",
              "      <td>Thanksgiving Proclamation</td>\n",
              "      <td>At the request of Congress, Washington establi...</td>\n",
              "      <td>Whereas it is the duty of all Nations to ackno...</td>\n",
              "      <td>https://millercenter.org/the-presidency/presid...</td>\n",
              "      <td>whereas it is the duty of all nations to ackno...</td>\n",
              "      <td>[duty, nation, acknowledge, providence, almigh...</td>\n",
              "    </tr>\n",
              "    <tr>\n",
              "      <th>2</th>\n",
              "      <td>1790-01-08</td>\n",
              "      <td>George Washington</td>\n",
              "      <td>Unaffiliated</td>\n",
              "      <td>First Annual Message to Congress</td>\n",
              "      <td>In a wide ranging speech, President Washington...</td>\n",
              "      <td>Fellow Citizens of the Senate and House of Rep...</td>\n",
              "      <td>https://millercenter.org/the-presidency/presid...</td>\n",
              "      <td>fellow citizens of the senate and house of rep...</td>\n",
              "      <td>[fellow, citizen, senate, house, representativ...</td>\n",
              "    </tr>\n",
              "    <tr>\n",
              "      <th>3</th>\n",
              "      <td>1790-12-08</td>\n",
              "      <td>George Washington</td>\n",
              "      <td>Unaffiliated</td>\n",
              "      <td>Second Annual Message to Congress</td>\n",
              "      <td>Washington focuses on commerce in his second a...</td>\n",
              "      <td>Fellow citizens of the Senate and House of Rep...</td>\n",
              "      <td>https://millercenter.org/the-presidency/presid...</td>\n",
              "      <td>fellow citizens of the senate and house of rep...</td>\n",
              "      <td>[fellow, citizen, senate, house, representativ...</td>\n",
              "    </tr>\n",
              "    <tr>\n",
              "      <th>4</th>\n",
              "      <td>1790-12-29</td>\n",
              "      <td>George Washington</td>\n",
              "      <td>Unaffiliated</td>\n",
              "      <td>Talk to the Chiefs and Counselors of the Senec...</td>\n",
              "      <td>The President reassures the Seneca Nation that...</td>\n",
              "      <td>I the President of the United States, by my ow...</td>\n",
              "      <td>https://millercenter.org/the-presidency/presid...</td>\n",
              "      <td>i the president of the united states by my own...</td>\n",
              "      <td>[president, united, states, mouth, write, spee...</td>\n",
              "    </tr>\n",
              "  </tbody>\n",
              "</table>\n",
              "</div>"
            ],
            "text/plain": [
              "         Date  ...                                  transcript_tokens\n",
              "0  1789-04-30  ...  [fellow, citizen, senate, house, representativ...\n",
              "1  1789-10-03  ...  [duty, nation, acknowledge, providence, almigh...\n",
              "2  1790-01-08  ...  [fellow, citizen, senate, house, representativ...\n",
              "3  1790-12-08  ...  [fellow, citizen, senate, house, representativ...\n",
              "4  1790-12-29  ...  [president, united, states, mouth, write, spee...\n",
              "\n",
              "[5 rows x 9 columns]"
            ]
          },
          "metadata": {},
          "execution_count": 12
        }
      ]
    },
    {
      "cell_type": "code",
      "metadata": {
        "colab": {
          "base_uri": "https://localhost:8080/",
          "height": 293
        },
        "id": "5OHMYYIm8sAE",
        "outputId": "c245bf5a-37ce-49d0-fd41-ad71966b7d34"
      },
      "source": [
        "stopp =stopwords.words('english')\n",
        "# mostf = ['unknown','day','good','trump','new','question','season','president','say']\n",
        "# for i in mostf:\n",
        "#   stopp.append(i)\n",
        "df_clean['transcript_tokens'] = df_clean['transcript_tokens'].apply(lambda x: [item for item in (x) if item not in stopp and len(item) >2])\n",
        "df_clean.head()"
      ],
      "execution_count": null,
      "outputs": [
        {
          "output_type": "execute_result",
          "data": {
            "text/html": [
              "<div>\n",
              "<style scoped>\n",
              "    .dataframe tbody tr th:only-of-type {\n",
              "        vertical-align: middle;\n",
              "    }\n",
              "\n",
              "    .dataframe tbody tr th {\n",
              "        vertical-align: top;\n",
              "    }\n",
              "\n",
              "    .dataframe thead th {\n",
              "        text-align: right;\n",
              "    }\n",
              "</style>\n",
              "<table border=\"1\" class=\"dataframe\">\n",
              "  <thead>\n",
              "    <tr style=\"text-align: right;\">\n",
              "      <th></th>\n",
              "      <th>Date</th>\n",
              "      <th>President</th>\n",
              "      <th>Party</th>\n",
              "      <th>Speech Title</th>\n",
              "      <th>Summary</th>\n",
              "      <th>Transcript</th>\n",
              "      <th>URL</th>\n",
              "      <th>transcript_clean</th>\n",
              "      <th>transcript_tokens</th>\n",
              "    </tr>\n",
              "  </thead>\n",
              "  <tbody>\n",
              "    <tr>\n",
              "      <th>0</th>\n",
              "      <td>1789-04-30</td>\n",
              "      <td>George Washington</td>\n",
              "      <td>Unaffiliated</td>\n",
              "      <td>First Inaugural Address</td>\n",
              "      <td>Washington calls on Congress to avoid local an...</td>\n",
              "      <td>Fellow Citizens of the Senate and the House of...</td>\n",
              "      <td>https://millercenter.org/the-presidency/presid...</td>\n",
              "      <td>fellow citizens of the senate and the house of...</td>\n",
              "      <td>[fellow, citizen, senate, house, representativ...</td>\n",
              "    </tr>\n",
              "    <tr>\n",
              "      <th>1</th>\n",
              "      <td>1789-10-03</td>\n",
              "      <td>George Washington</td>\n",
              "      <td>Unaffiliated</td>\n",
              "      <td>Thanksgiving Proclamation</td>\n",
              "      <td>At the request of Congress, Washington establi...</td>\n",
              "      <td>Whereas it is the duty of all Nations to ackno...</td>\n",
              "      <td>https://millercenter.org/the-presidency/presid...</td>\n",
              "      <td>whereas it is the duty of all nations to ackno...</td>\n",
              "      <td>[duty, nation, acknowledge, providence, almigh...</td>\n",
              "    </tr>\n",
              "    <tr>\n",
              "      <th>2</th>\n",
              "      <td>1790-01-08</td>\n",
              "      <td>George Washington</td>\n",
              "      <td>Unaffiliated</td>\n",
              "      <td>First Annual Message to Congress</td>\n",
              "      <td>In a wide ranging speech, President Washington...</td>\n",
              "      <td>Fellow Citizens of the Senate and House of Rep...</td>\n",
              "      <td>https://millercenter.org/the-presidency/presid...</td>\n",
              "      <td>fellow citizens of the senate and house of rep...</td>\n",
              "      <td>[fellow, citizen, senate, house, representativ...</td>\n",
              "    </tr>\n",
              "    <tr>\n",
              "      <th>3</th>\n",
              "      <td>1790-12-08</td>\n",
              "      <td>George Washington</td>\n",
              "      <td>Unaffiliated</td>\n",
              "      <td>Second Annual Message to Congress</td>\n",
              "      <td>Washington focuses on commerce in his second a...</td>\n",
              "      <td>Fellow citizens of the Senate and House of Rep...</td>\n",
              "      <td>https://millercenter.org/the-presidency/presid...</td>\n",
              "      <td>fellow citizens of the senate and house of rep...</td>\n",
              "      <td>[fellow, citizen, senate, house, representativ...</td>\n",
              "    </tr>\n",
              "    <tr>\n",
              "      <th>4</th>\n",
              "      <td>1790-12-29</td>\n",
              "      <td>George Washington</td>\n",
              "      <td>Unaffiliated</td>\n",
              "      <td>Talk to the Chiefs and Counselors of the Senec...</td>\n",
              "      <td>The President reassures the Seneca Nation that...</td>\n",
              "      <td>I the President of the United States, by my ow...</td>\n",
              "      <td>https://millercenter.org/the-presidency/presid...</td>\n",
              "      <td>i the president of the united states by my own...</td>\n",
              "      <td>[president, united, states, mouth, write, spee...</td>\n",
              "    </tr>\n",
              "  </tbody>\n",
              "</table>\n",
              "</div>"
            ],
            "text/plain": [
              "         Date  ...                                  transcript_tokens\n",
              "0  1789-04-30  ...  [fellow, citizen, senate, house, representativ...\n",
              "1  1789-10-03  ...  [duty, nation, acknowledge, providence, almigh...\n",
              "2  1790-01-08  ...  [fellow, citizen, senate, house, representativ...\n",
              "3  1790-12-08  ...  [fellow, citizen, senate, house, representativ...\n",
              "4  1790-12-29  ...  [president, united, states, mouth, write, spee...\n",
              "\n",
              "[5 rows x 9 columns]"
            ]
          },
          "metadata": {},
          "execution_count": 13
        }
      ]
    },
    {
      "cell_type": "code",
      "source": [
        "speech_len = []\n",
        "for i in df_clean['transcript_tokens']:\n",
        "  speech_len.append(len(i))\n",
        "print(\"Average number of words in each speech:\",sum(speech_len)/len(speech_len))"
      ],
      "metadata": {
        "colab": {
          "base_uri": "https://localhost:8080/"
        },
        "id": "cRQvWpIg4Mra",
        "outputId": "7f77b81d-1b7a-4dc9-d724-8ce077926928"
      },
      "execution_count": null,
      "outputs": [
        {
          "output_type": "stream",
          "name": "stdout",
          "text": [
            "Average number of words in each speech: 1621.1683467741937\n"
          ]
        }
      ]
    },
    {
      "cell_type": "code",
      "metadata": {
        "id": "mYQhoAXF8CCq"
      },
      "source": [
        "from sklearn.datasets import fetch_20newsgroups\n",
        "from sklearn.decomposition import TruncatedSVD\n",
        "from sklearn.feature_extraction.text import TfidfVectorizer\n",
        "from sklearn.feature_extraction.text import HashingVectorizer\n",
        "from sklearn.feature_extraction.text import TfidfTransformer\n",
        "from sklearn.feature_extraction.text import CountVectorizer\n",
        "from sklearn.decomposition import LatentDirichletAllocation\n",
        "import pyLDAvis\n",
        "import pyLDAvis.gensim_models as gensimvis\n",
        "from sklearn.decomposition import LatentDirichletAllocation\n",
        "from gensim import matutils, models\n",
        "import scipy.sparse\n",
        "from gensim import models,corpora"
      ],
      "execution_count": null,
      "outputs": []
    },
    {
      "cell_type": "code",
      "metadata": {
        "id": "muwr20jAA1zW"
      },
      "source": [
        "\n",
        "def data_prepare_topic(df,column):\n",
        "  bigram = gensim.models.Phrases(df[column])\n",
        "  texts = [bigram[line] for line in df[column]]\n",
        "\n",
        "\n",
        "\n",
        "  dictionary = Dictionary(texts)\n",
        "  print(dictionary.items())\n",
        "  corpus = [dictionary.doc2bow(text) for text in texts]\n",
        "  return corpus, dictionary\n",
        "\n",
        "\n"
      ],
      "execution_count": null,
      "outputs": []
    },
    {
      "cell_type": "code",
      "metadata": {
        "id": "WehITeEeA12M"
      },
      "source": [
        "def show_topics(df,column,corpus,dictionary):\n",
        "\n",
        "  tfidf = models.TfidfModel(corpus)\n",
        "  transformed_tfidf = tfidf[corpus]\n",
        "\n",
        "  lda1 = models.LdaMulticore(corpus = transformed_tfidf,id2word= dictionary,num_topics=4,workers = 4,passes = 4,iterations = 5)\n",
        "\n",
        "\n",
        "\n",
        "\n",
        "  # tfidf_vectorizer = TfidfVectorizer(max_df=0.95, min_df=2, max_features=no_features, stop_words='english')\n",
        "  # tfidf = tfidf_vectorizer.fit_transform(df[column])\n",
        "  # tfidf_feature_names = tfidf_vectorizer.get_feature_names()\n",
        "\n",
        "  # tf_vectorizer = CountVectorizer(max_df=0.95, min_df=2, max_features=no_features, stop_words='english')\n",
        "  # tf = tf_vectorizer.fit_transform(df[column])\n",
        "\n",
        "  # tf_feature_names = tf_vectorizer.get_feature_names()\n",
        "\n",
        "  # no_topics = 10\n",
        "\n",
        "  # # Run NMF\n",
        "  # #nmf = NMF(n_components=no_topics, random_state=1, alpha=.1, l1_ratio=.5, init='nndsvd').fit(tfidf)\n",
        "\n",
        "  # # Run LDA\n",
        "  # lda1 = models.LdaModel(corpus = tfidf_feature_names,id2word= dictionary,num_topics=5, passes=200)\n",
        "  # # lda1.show_topics()\n",
        "\n",
        "  # no_top_words = 10\n",
        "  return lda1,corpus,dictionary"
      ],
      "execution_count": null,
      "outputs": []
    },
    {
      "cell_type": "code",
      "source": [
        "president_options = df_clean[\"President\"].value_counts().keys()\n",
        "\n",
        "\n",
        "perplexity= []\n",
        "coherence = []\n",
        "\n",
        "from tqdm import tqdm\n",
        "for i in tqdm(president_options):\n",
        "  df_president = df_clean.loc[df_clean['President'] == i]\n",
        "  corpus_bow, dictionary_bow = data_prepare_topic(df_president,'transcript_tokens')\n",
        "  lda1,corpus,dictionary = show_topics(df_president,'transcript_clean',corpus_bow,dictionary_bow)\n",
        "  perplexity.append(lda1.log_perplexity(corpus))\n",
        "  coherence_model = CoherenceModel(model = lda1,texts = df_president['transcript_tokens'],\n",
        "                                   dictionary = dictionary_bow,coherence = 'c_v')\n",
        "  coherence_lda = coherence_model.get_coherence()\n",
        "  coherence.append(coherence_lda)\n",
        "\n"
      ],
      "metadata": {
        "colab": {
          "base_uri": "https://localhost:8080/"
        },
        "id": "5H4bolapCRIr",
        "outputId": "629b85a2-055c-4475-f074-1ebc85dab540"
      },
      "execution_count": null,
      "outputs": [
        {
          "output_type": "stream",
          "name": "stderr",
          "text": [
            "\r  0%|          | 0/44 [00:00<?, ?it/s]"
          ]
        },
        {
          "output_type": "stream",
          "name": "stdout",
          "text": [
            "ItemsView(<gensim.corpora.dictionary.Dictionary object at 0x7f83facab7d0>)\n"
          ]
        },
        {
          "output_type": "stream",
          "name": "stderr",
          "text": [
            "\r  2%|▏         | 1/44 [00:05<04:08,  5.77s/it]"
          ]
        },
        {
          "output_type": "stream",
          "name": "stdout",
          "text": [
            "ItemsView(<gensim.corpora.dictionary.Dictionary object at 0x7f83faabb390>)\n"
          ]
        },
        {
          "output_type": "stream",
          "name": "stderr",
          "text": [
            "\r  5%|▍         | 2/44 [00:10<03:45,  5.36s/it]"
          ]
        },
        {
          "output_type": "stream",
          "name": "stdout",
          "text": [
            "ItemsView(<gensim.corpora.dictionary.Dictionary object at 0x7f83faabc410>)\n"
          ]
        },
        {
          "output_type": "stream",
          "name": "stderr",
          "text": [
            "\r  7%|▋         | 3/44 [00:15<03:32,  5.18s/it]"
          ]
        },
        {
          "output_type": "stream",
          "name": "stdout",
          "text": [
            "ItemsView(<gensim.corpora.dictionary.Dictionary object at 0x7f83fa8b4c50>)\n"
          ]
        },
        {
          "output_type": "stream",
          "name": "stderr",
          "text": [
            "\r  9%|▉         | 4/44 [00:19<03:05,  4.63s/it]"
          ]
        },
        {
          "output_type": "stream",
          "name": "stdout",
          "text": [
            "ItemsView(<gensim.corpora.dictionary.Dictionary object at 0x7f83f8ce9a50>)\n"
          ]
        },
        {
          "output_type": "stream",
          "name": "stderr",
          "text": [
            "\r 11%|█▏        | 5/44 [00:22<02:42,  4.17s/it]"
          ]
        },
        {
          "output_type": "stream",
          "name": "stdout",
          "text": [
            "ItemsView(<gensim.corpora.dictionary.Dictionary object at 0x7f83f89ee750>)\n"
          ]
        },
        {
          "output_type": "stream",
          "name": "stderr",
          "text": [
            "\r 14%|█▎        | 6/44 [00:26<02:25,  3.83s/it]"
          ]
        },
        {
          "output_type": "stream",
          "name": "stdout",
          "text": [
            "ItemsView(<gensim.corpora.dictionary.Dictionary object at 0x7f83f8a3bc50>)\n"
          ]
        },
        {
          "output_type": "stream",
          "name": "stderr",
          "text": [
            "\r 16%|█▌        | 7/44 [00:29<02:18,  3.74s/it]"
          ]
        },
        {
          "output_type": "stream",
          "name": "stdout",
          "text": [
            "ItemsView(<gensim.corpora.dictionary.Dictionary object at 0x7f83f8483e90>)\n"
          ]
        },
        {
          "output_type": "stream",
          "name": "stderr",
          "text": [
            "\r 18%|█▊        | 8/44 [00:32<02:01,  3.38s/it]"
          ]
        },
        {
          "output_type": "stream",
          "name": "stdout",
          "text": [
            "ItemsView(<gensim.corpora.dictionary.Dictionary object at 0x7f83f8626890>)\n"
          ]
        },
        {
          "output_type": "stream",
          "name": "stderr",
          "text": [
            "\r 20%|██        | 9/44 [00:35<01:52,  3.21s/it]"
          ]
        },
        {
          "output_type": "stream",
          "name": "stdout",
          "text": [
            "ItemsView(<gensim.corpora.dictionary.Dictionary object at 0x7f83faf16150>)\n"
          ]
        },
        {
          "output_type": "stream",
          "name": "stderr",
          "text": [
            "\r 23%|██▎       | 10/44 [00:37<01:42,  3.03s/it]"
          ]
        },
        {
          "output_type": "stream",
          "name": "stdout",
          "text": [
            "ItemsView(<gensim.corpora.dictionary.Dictionary object at 0x7f83fa956e50>)\n"
          ]
        },
        {
          "output_type": "stream",
          "name": "stderr",
          "text": [
            "\r 25%|██▌       | 11/44 [00:40<01:36,  2.92s/it]"
          ]
        },
        {
          "output_type": "stream",
          "name": "stdout",
          "text": [
            "ItemsView(<gensim.corpora.dictionary.Dictionary object at 0x7f83f837b410>)\n"
          ]
        },
        {
          "output_type": "stream",
          "name": "stderr",
          "text": [
            "\r 27%|██▋       | 12/44 [00:44<01:48,  3.40s/it]"
          ]
        },
        {
          "output_type": "stream",
          "name": "stdout",
          "text": [
            "ItemsView(<gensim.corpora.dictionary.Dictionary object at 0x7f83fa94dc90>)\n"
          ]
        },
        {
          "output_type": "stream",
          "name": "stderr",
          "text": [
            "\r 30%|██▉       | 13/44 [00:48<01:48,  3.49s/it]"
          ]
        },
        {
          "output_type": "stream",
          "name": "stdout",
          "text": [
            "ItemsView(<gensim.corpora.dictionary.Dictionary object at 0x7f83fabeb450>)\n"
          ]
        },
        {
          "output_type": "stream",
          "name": "stderr",
          "text": [
            "\r 32%|███▏      | 14/44 [00:51<01:36,  3.21s/it]"
          ]
        },
        {
          "output_type": "stream",
          "name": "stdout",
          "text": [
            "ItemsView(<gensim.corpora.dictionary.Dictionary object at 0x7f83fab3fbd0>)\n"
          ]
        },
        {
          "output_type": "stream",
          "name": "stderr",
          "text": [
            "\r 34%|███▍      | 15/44 [00:52<01:18,  2.69s/it]"
          ]
        },
        {
          "output_type": "stream",
          "name": "stdout",
          "text": [
            "ItemsView(<gensim.corpora.dictionary.Dictionary object at 0x7f83f88b11d0>)\n"
          ]
        },
        {
          "output_type": "stream",
          "name": "stderr",
          "text": [
            "\r 36%|███▋      | 16/44 [00:56<01:21,  2.92s/it]"
          ]
        },
        {
          "output_type": "stream",
          "name": "stdout",
          "text": [
            "ItemsView(<gensim.corpora.dictionary.Dictionary object at 0x7f83f8a1cf10>)\n"
          ]
        },
        {
          "output_type": "stream",
          "name": "stderr",
          "text": [
            "\r 39%|███▊      | 17/44 [00:58<01:11,  2.64s/it]"
          ]
        },
        {
          "output_type": "stream",
          "name": "stdout",
          "text": [
            "ItemsView(<gensim.corpora.dictionary.Dictionary object at 0x7f83fa99b2d0>)\n"
          ]
        },
        {
          "output_type": "stream",
          "name": "stderr",
          "text": [
            "\r 41%|████      | 18/44 [01:00<01:07,  2.60s/it]"
          ]
        },
        {
          "output_type": "stream",
          "name": "stdout",
          "text": [
            "ItemsView(<gensim.corpora.dictionary.Dictionary object at 0x7f83fa992290>)\n"
          ]
        },
        {
          "output_type": "stream",
          "name": "stderr",
          "text": [
            "\r 43%|████▎     | 19/44 [01:03<01:05,  2.61s/it]"
          ]
        },
        {
          "output_type": "stream",
          "name": "stdout",
          "text": [
            "ItemsView(<gensim.corpora.dictionary.Dictionary object at 0x7f83f835c5d0>)\n"
          ]
        },
        {
          "output_type": "stream",
          "name": "stderr",
          "text": [
            "\r 45%|████▌     | 20/44 [01:04<00:54,  2.28s/it]"
          ]
        },
        {
          "output_type": "stream",
          "name": "stdout",
          "text": [
            "ItemsView(<gensim.corpora.dictionary.Dictionary object at 0x7f83fb259850>)\n"
          ]
        },
        {
          "output_type": "stream",
          "name": "stderr",
          "text": [
            "\r 48%|████▊     | 21/44 [01:10<01:12,  3.17s/it]"
          ]
        },
        {
          "output_type": "stream",
          "name": "stdout",
          "text": [
            "ItemsView(<gensim.corpora.dictionary.Dictionary object at 0x7f83fa7dbc90>)\n"
          ]
        },
        {
          "output_type": "stream",
          "name": "stderr",
          "text": [
            "\r 50%|█████     | 22/44 [01:11<00:58,  2.66s/it]"
          ]
        },
        {
          "output_type": "stream",
          "name": "stdout",
          "text": [
            "ItemsView(<gensim.corpora.dictionary.Dictionary object at 0x7f83faf41b10>)\n"
          ]
        },
        {
          "output_type": "stream",
          "name": "stderr",
          "text": [
            "\r 52%|█████▏    | 23/44 [01:13<00:52,  2.51s/it]"
          ]
        },
        {
          "output_type": "stream",
          "name": "stdout",
          "text": [
            "ItemsView(<gensim.corpora.dictionary.Dictionary object at 0x7f83faf43790>)\n"
          ]
        },
        {
          "output_type": "stream",
          "name": "stderr",
          "text": [
            "\r 55%|█████▍    | 24/44 [01:15<00:44,  2.20s/it]"
          ]
        },
        {
          "output_type": "stream",
          "name": "stdout",
          "text": [
            "ItemsView(<gensim.corpora.dictionary.Dictionary object at 0x7f83f8b1a3d0>)\n"
          ]
        },
        {
          "output_type": "stream",
          "name": "stderr",
          "text": [
            "\r 57%|█████▋    | 25/44 [01:17<00:41,  2.17s/it]"
          ]
        },
        {
          "output_type": "stream",
          "name": "stdout",
          "text": [
            "ItemsView(<gensim.corpora.dictionary.Dictionary object at 0x7f83f836d210>)\n"
          ]
        },
        {
          "output_type": "stream",
          "name": "stderr",
          "text": [
            "\r 59%|█████▉    | 26/44 [01:18<00:34,  1.91s/it]"
          ]
        },
        {
          "output_type": "stream",
          "name": "stdout",
          "text": [
            "ItemsView(<gensim.corpora.dictionary.Dictionary object at 0x7f83fabc5a50>)\n"
          ]
        },
        {
          "output_type": "stream",
          "name": "stderr",
          "text": [
            "\r 61%|██████▏   | 27/44 [01:20<00:32,  1.92s/it]"
          ]
        },
        {
          "output_type": "stream",
          "name": "stdout",
          "text": [
            "ItemsView(<gensim.corpora.dictionary.Dictionary object at 0x7f83f88c4a50>)\n"
          ]
        },
        {
          "output_type": "stream",
          "name": "stderr",
          "text": [
            "\r 64%|██████▎   | 28/44 [01:22<00:31,  1.95s/it]"
          ]
        },
        {
          "output_type": "stream",
          "name": "stdout",
          "text": [
            "ItemsView(<gensim.corpora.dictionary.Dictionary object at 0x7f83fa5403d0>)\n"
          ]
        },
        {
          "output_type": "stream",
          "name": "stderr",
          "text": [
            "\r 66%|██████▌   | 29/44 [01:24<00:31,  2.09s/it]"
          ]
        },
        {
          "output_type": "stream",
          "name": "stdout",
          "text": [
            "ItemsView(<gensim.corpora.dictionary.Dictionary object at 0x7f83f89e8fd0>)\n"
          ]
        },
        {
          "output_type": "stream",
          "name": "stderr",
          "text": [
            "\r 68%|██████▊   | 30/44 [01:26<00:28,  2.06s/it]"
          ]
        },
        {
          "output_type": "stream",
          "name": "stdout",
          "text": [
            "ItemsView(<gensim.corpora.dictionary.Dictionary object at 0x7f83f88d5290>)\n"
          ]
        },
        {
          "output_type": "stream",
          "name": "stderr",
          "text": [
            "\r 70%|███████   | 31/44 [01:30<00:31,  2.39s/it]"
          ]
        },
        {
          "output_type": "stream",
          "name": "stdout",
          "text": [
            "ItemsView(<gensim.corpora.dictionary.Dictionary object at 0x7f83faebea10>)\n"
          ]
        },
        {
          "output_type": "stream",
          "name": "stderr",
          "text": [
            "\r 73%|███████▎  | 32/44 [01:31<00:26,  2.19s/it]"
          ]
        },
        {
          "output_type": "stream",
          "name": "stdout",
          "text": [
            "ItemsView(<gensim.corpora.dictionary.Dictionary object at 0x7f83faf4db90>)\n"
          ]
        },
        {
          "output_type": "stream",
          "name": "stderr",
          "text": [
            "\r 75%|███████▌  | 33/44 [01:35<00:27,  2.53s/it]"
          ]
        },
        {
          "output_type": "stream",
          "name": "stdout",
          "text": [
            "ItemsView(<gensim.corpora.dictionary.Dictionary object at 0x7f83f88dd790>)\n"
          ]
        },
        {
          "output_type": "stream",
          "name": "stderr",
          "text": [
            "\r 77%|███████▋  | 34/44 [01:37<00:24,  2.40s/it]"
          ]
        },
        {
          "output_type": "stream",
          "name": "stdout",
          "text": [
            "ItemsView(<gensim.corpora.dictionary.Dictionary object at 0x7f83f8b10590>)\n"
          ]
        },
        {
          "output_type": "stream",
          "name": "stderr",
          "text": [
            "\r 80%|███████▉  | 35/44 [01:38<00:19,  2.18s/it]"
          ]
        },
        {
          "output_type": "stream",
          "name": "stdout",
          "text": [
            "ItemsView(<gensim.corpora.dictionary.Dictionary object at 0x7f83fa5b6d90>)\n"
          ]
        },
        {
          "output_type": "stream",
          "name": "stderr",
          "text": [
            "\r 82%|████████▏ | 36/44 [01:40<00:15,  1.96s/it]"
          ]
        },
        {
          "output_type": "stream",
          "name": "stdout",
          "text": [
            "ItemsView(<gensim.corpora.dictionary.Dictionary object at 0x7f83faa5c4d0>)\n"
          ]
        },
        {
          "output_type": "stream",
          "name": "stderr",
          "text": [
            "\r 84%|████████▍ | 37/44 [01:42<00:13,  1.95s/it]"
          ]
        },
        {
          "output_type": "stream",
          "name": "stdout",
          "text": [
            "ItemsView(<gensim.corpora.dictionary.Dictionary object at 0x7f83fa99c750>)\n"
          ]
        },
        {
          "output_type": "stream",
          "name": "stderr",
          "text": [
            "\r 86%|████████▋ | 38/44 [01:43<00:10,  1.75s/it]"
          ]
        },
        {
          "output_type": "stream",
          "name": "stdout",
          "text": [
            "ItemsView(<gensim.corpora.dictionary.Dictionary object at 0x7f83fb0878d0>)\n"
          ]
        },
        {
          "output_type": "stream",
          "name": "stderr",
          "text": [
            "\r 89%|████████▊ | 39/44 [01:44<00:07,  1.50s/it]"
          ]
        },
        {
          "output_type": "stream",
          "name": "stdout",
          "text": [
            "ItemsView(<gensim.corpora.dictionary.Dictionary object at 0x7f83f838c690>)\n"
          ]
        },
        {
          "output_type": "stream",
          "name": "stderr",
          "text": [
            "\r 91%|█████████ | 40/44 [01:45<00:05,  1.47s/it]"
          ]
        },
        {
          "output_type": "stream",
          "name": "stdout",
          "text": [
            "ItemsView(<gensim.corpora.dictionary.Dictionary object at 0x7f83fafd5350>)\n"
          ]
        },
        {
          "output_type": "stream",
          "name": "stderr",
          "text": [
            "\r 93%|█████████▎| 41/44 [01:46<00:03,  1.30s/it]"
          ]
        },
        {
          "output_type": "stream",
          "name": "stdout",
          "text": [
            "ItemsView(<gensim.corpora.dictionary.Dictionary object at 0x7f83f88607d0>)\n"
          ]
        },
        {
          "output_type": "stream",
          "name": "stderr",
          "text": [
            "\r 95%|█████████▌| 42/44 [01:47<00:02,  1.14s/it]"
          ]
        },
        {
          "output_type": "stream",
          "name": "stdout",
          "text": [
            "ItemsView(<gensim.corpora.dictionary.Dictionary object at 0x7f83f89e0bd0>)\n"
          ]
        },
        {
          "output_type": "stream",
          "name": "stderr",
          "text": [
            "\r 98%|█████████▊| 43/44 [01:47<00:00,  1.11it/s]"
          ]
        },
        {
          "output_type": "stream",
          "name": "stdout",
          "text": [
            "ItemsView(<gensim.corpora.dictionary.Dictionary object at 0x7f83faae2f10>)\n"
          ]
        },
        {
          "output_type": "stream",
          "name": "stderr",
          "text": [
            "100%|██████████| 44/44 [01:48<00:00,  2.46s/it]\n"
          ]
        }
      ]
    },
    {
      "cell_type": "code",
      "source": [
        "df_topic_scores = pd.DataFrame()\n",
        "df_topic_scores['President'] = president_options\n",
        "df_topic_scores['Perplexity'] = perplexity\n",
        "df_topic_scores['Coherence'] = coherence\n",
        "df_topic_scores"
      ],
      "metadata": {
        "colab": {
          "base_uri": "https://localhost:8080/",
          "height": 1000
        },
        "id": "CLHIcxCyEkN4",
        "outputId": "ed3451ac-919e-42ab-c882-a0f3fb50f82c"
      },
      "execution_count": null,
      "outputs": [
        {
          "output_type": "execute_result",
          "data": {
            "text/html": [
              "<div>\n",
              "<style scoped>\n",
              "    .dataframe tbody tr th:only-of-type {\n",
              "        vertical-align: middle;\n",
              "    }\n",
              "\n",
              "    .dataframe tbody tr th {\n",
              "        vertical-align: top;\n",
              "    }\n",
              "\n",
              "    .dataframe thead th {\n",
              "        text-align: right;\n",
              "    }\n",
              "</style>\n",
              "<table border=\"1\" class=\"dataframe\">\n",
              "  <thead>\n",
              "    <tr style=\"text-align: right;\">\n",
              "      <th></th>\n",
              "      <th>President</th>\n",
              "      <th>Perplexity</th>\n",
              "      <th>Coherence</th>\n",
              "    </tr>\n",
              "  </thead>\n",
              "  <tbody>\n",
              "    <tr>\n",
              "      <th>0</th>\n",
              "      <td>Lyndon B. Johnson</td>\n",
              "      <td>-10.239212</td>\n",
              "      <td>NaN</td>\n",
              "    </tr>\n",
              "    <tr>\n",
              "      <th>1</th>\n",
              "      <td>Ronald Reagan</td>\n",
              "      <td>-10.718421</td>\n",
              "      <td>NaN</td>\n",
              "    </tr>\n",
              "    <tr>\n",
              "      <th>2</th>\n",
              "      <td>Barack Obama</td>\n",
              "      <td>-10.809462</td>\n",
              "      <td>NaN</td>\n",
              "    </tr>\n",
              "    <tr>\n",
              "      <th>3</th>\n",
              "      <td>Franklin D. Roosevelt</td>\n",
              "      <td>-10.196152</td>\n",
              "      <td>NaN</td>\n",
              "    </tr>\n",
              "    <tr>\n",
              "      <th>4</th>\n",
              "      <td>John F. Kennedy</td>\n",
              "      <td>-10.451707</td>\n",
              "      <td>NaN</td>\n",
              "    </tr>\n",
              "    <tr>\n",
              "      <th>5</th>\n",
              "      <td>George W. Bush</td>\n",
              "      <td>-10.358317</td>\n",
              "      <td>NaN</td>\n",
              "    </tr>\n",
              "    <tr>\n",
              "      <th>6</th>\n",
              "      <td>Bill Clinton</td>\n",
              "      <td>-10.528386</td>\n",
              "      <td>NaN</td>\n",
              "    </tr>\n",
              "    <tr>\n",
              "      <th>7</th>\n",
              "      <td>Woodrow Wilson</td>\n",
              "      <td>-10.204755</td>\n",
              "      <td>NaN</td>\n",
              "    </tr>\n",
              "    <tr>\n",
              "      <th>8</th>\n",
              "      <td>Ulysses S. Grant</td>\n",
              "      <td>-10.314885</td>\n",
              "      <td>NaN</td>\n",
              "    </tr>\n",
              "    <tr>\n",
              "      <th>9</th>\n",
              "      <td>Andrew Johnson</td>\n",
              "      <td>-9.994403</td>\n",
              "      <td>NaN</td>\n",
              "    </tr>\n",
              "    <tr>\n",
              "      <th>10</th>\n",
              "      <td>Herbert Hoover</td>\n",
              "      <td>-10.231282</td>\n",
              "      <td>NaN</td>\n",
              "    </tr>\n",
              "    <tr>\n",
              "      <th>11</th>\n",
              "      <td>Grover Cleveland</td>\n",
              "      <td>-10.689637</td>\n",
              "      <td>NaN</td>\n",
              "    </tr>\n",
              "    <tr>\n",
              "      <th>12</th>\n",
              "      <td>Andrew Jackson</td>\n",
              "      <td>-10.623496</td>\n",
              "      <td>NaN</td>\n",
              "    </tr>\n",
              "    <tr>\n",
              "      <th>13</th>\n",
              "      <td>James K. Polk</td>\n",
              "      <td>-9.853030</td>\n",
              "      <td>NaN</td>\n",
              "    </tr>\n",
              "    <tr>\n",
              "      <th>14</th>\n",
              "      <td>Thomas Jefferson</td>\n",
              "      <td>-10.091050</td>\n",
              "      <td>NaN</td>\n",
              "    </tr>\n",
              "    <tr>\n",
              "      <th>15</th>\n",
              "      <td>Benjamin Harrison</td>\n",
              "      <td>-10.589834</td>\n",
              "      <td>NaN</td>\n",
              "    </tr>\n",
              "    <tr>\n",
              "      <th>16</th>\n",
              "      <td>Richard M. Nixon</td>\n",
              "      <td>-10.330775</td>\n",
              "      <td>NaN</td>\n",
              "    </tr>\n",
              "    <tr>\n",
              "      <th>17</th>\n",
              "      <td>George H. W. Bush</td>\n",
              "      <td>-10.718367</td>\n",
              "      <td>NaN</td>\n",
              "    </tr>\n",
              "    <tr>\n",
              "      <th>18</th>\n",
              "      <td>Jimmy Carter</td>\n",
              "      <td>-10.592565</td>\n",
              "      <td>NaN</td>\n",
              "    </tr>\n",
              "    <tr>\n",
              "      <th>19</th>\n",
              "      <td>James Madison</td>\n",
              "      <td>-10.081088</td>\n",
              "      <td>NaN</td>\n",
              "    </tr>\n",
              "    <tr>\n",
              "      <th>20</th>\n",
              "      <td>Theodore Roosevelt</td>\n",
              "      <td>-11.016623</td>\n",
              "      <td>NaN</td>\n",
              "    </tr>\n",
              "    <tr>\n",
              "      <th>21</th>\n",
              "      <td>George Washington</td>\n",
              "      <td>-10.260021</td>\n",
              "      <td>NaN</td>\n",
              "    </tr>\n",
              "    <tr>\n",
              "      <th>22</th>\n",
              "      <td>Donald Trump</td>\n",
              "      <td>-10.774182</td>\n",
              "      <td>NaN</td>\n",
              "    </tr>\n",
              "    <tr>\n",
              "      <th>23</th>\n",
              "      <td>Harry S. Truman</td>\n",
              "      <td>-10.164419</td>\n",
              "      <td>NaN</td>\n",
              "    </tr>\n",
              "    <tr>\n",
              "      <th>24</th>\n",
              "      <td>John Tyler</td>\n",
              "      <td>-10.580322</td>\n",
              "      <td>NaN</td>\n",
              "    </tr>\n",
              "    <tr>\n",
              "      <th>25</th>\n",
              "      <td>Warren G. Harding</td>\n",
              "      <td>-10.089085</td>\n",
              "      <td>NaN</td>\n",
              "    </tr>\n",
              "    <tr>\n",
              "      <th>26</th>\n",
              "      <td>Rutherford B. Hayes</td>\n",
              "      <td>-10.491428</td>\n",
              "      <td>NaN</td>\n",
              "    </tr>\n",
              "    <tr>\n",
              "      <th>27</th>\n",
              "      <td>Franklin Pierce</td>\n",
              "      <td>-10.559058</td>\n",
              "      <td>NaN</td>\n",
              "    </tr>\n",
              "    <tr>\n",
              "      <th>28</th>\n",
              "      <td>Abraham Lincoln</td>\n",
              "      <td>-10.760223</td>\n",
              "      <td>NaN</td>\n",
              "    </tr>\n",
              "    <tr>\n",
              "      <th>29</th>\n",
              "      <td>James Buchanan</td>\n",
              "      <td>-10.731045</td>\n",
              "      <td>NaN</td>\n",
              "    </tr>\n",
              "    <tr>\n",
              "      <th>30</th>\n",
              "      <td>William McKinley</td>\n",
              "      <td>-10.811513</td>\n",
              "      <td>NaN</td>\n",
              "    </tr>\n",
              "    <tr>\n",
              "      <th>31</th>\n",
              "      <td>Gerald Ford</td>\n",
              "      <td>-10.390907</td>\n",
              "      <td>NaN</td>\n",
              "    </tr>\n",
              "    <tr>\n",
              "      <th>32</th>\n",
              "      <td>William Taft</td>\n",
              "      <td>-11.038944</td>\n",
              "      <td>NaN</td>\n",
              "    </tr>\n",
              "    <tr>\n",
              "      <th>33</th>\n",
              "      <td>Calvin Coolidge</td>\n",
              "      <td>-10.982153</td>\n",
              "      <td>NaN</td>\n",
              "    </tr>\n",
              "    <tr>\n",
              "      <th>34</th>\n",
              "      <td>Chester A. Arthur</td>\n",
              "      <td>-10.644618</td>\n",
              "      <td>NaN</td>\n",
              "    </tr>\n",
              "    <tr>\n",
              "      <th>35</th>\n",
              "      <td>James Monroe</td>\n",
              "      <td>-10.593433</td>\n",
              "      <td>NaN</td>\n",
              "    </tr>\n",
              "    <tr>\n",
              "      <th>36</th>\n",
              "      <td>Martin Van Buren</td>\n",
              "      <td>-10.596874</td>\n",
              "      <td>NaN</td>\n",
              "    </tr>\n",
              "    <tr>\n",
              "      <th>37</th>\n",
              "      <td>John Quincy Adams</td>\n",
              "      <td>-10.454709</td>\n",
              "      <td>NaN</td>\n",
              "    </tr>\n",
              "    <tr>\n",
              "      <th>38</th>\n",
              "      <td>John Adams</td>\n",
              "      <td>-10.081866</td>\n",
              "      <td>NaN</td>\n",
              "    </tr>\n",
              "    <tr>\n",
              "      <th>39</th>\n",
              "      <td>Millard Fillmore</td>\n",
              "      <td>-10.706824</td>\n",
              "      <td>NaN</td>\n",
              "    </tr>\n",
              "    <tr>\n",
              "      <th>40</th>\n",
              "      <td>Dwight D. Eisenhower</td>\n",
              "      <td>-10.466077</td>\n",
              "      <td>NaN</td>\n",
              "    </tr>\n",
              "    <tr>\n",
              "      <th>41</th>\n",
              "      <td>Zachary Taylor</td>\n",
              "      <td>-9.996661</td>\n",
              "      <td>NaN</td>\n",
              "    </tr>\n",
              "    <tr>\n",
              "      <th>42</th>\n",
              "      <td>William Harrison</td>\n",
              "      <td>-10.051550</td>\n",
              "      <td>0.706304</td>\n",
              "    </tr>\n",
              "    <tr>\n",
              "      <th>43</th>\n",
              "      <td>James A. Garfield</td>\n",
              "      <td>-9.450081</td>\n",
              "      <td>0.571679</td>\n",
              "    </tr>\n",
              "  </tbody>\n",
              "</table>\n",
              "</div>"
            ],
            "text/plain": [
              "                President  Perplexity  Coherence\n",
              "0       Lyndon B. Johnson  -10.239212        NaN\n",
              "1           Ronald Reagan  -10.718421        NaN\n",
              "2            Barack Obama  -10.809462        NaN\n",
              "3   Franklin D. Roosevelt  -10.196152        NaN\n",
              "4         John F. Kennedy  -10.451707        NaN\n",
              "5          George W. Bush  -10.358317        NaN\n",
              "6            Bill Clinton  -10.528386        NaN\n",
              "7          Woodrow Wilson  -10.204755        NaN\n",
              "8        Ulysses S. Grant  -10.314885        NaN\n",
              "9          Andrew Johnson   -9.994403        NaN\n",
              "10         Herbert Hoover  -10.231282        NaN\n",
              "11       Grover Cleveland  -10.689637        NaN\n",
              "12         Andrew Jackson  -10.623496        NaN\n",
              "13          James K. Polk   -9.853030        NaN\n",
              "14       Thomas Jefferson  -10.091050        NaN\n",
              "15      Benjamin Harrison  -10.589834        NaN\n",
              "16       Richard M. Nixon  -10.330775        NaN\n",
              "17      George H. W. Bush  -10.718367        NaN\n",
              "18           Jimmy Carter  -10.592565        NaN\n",
              "19          James Madison  -10.081088        NaN\n",
              "20     Theodore Roosevelt  -11.016623        NaN\n",
              "21      George Washington  -10.260021        NaN\n",
              "22           Donald Trump  -10.774182        NaN\n",
              "23        Harry S. Truman  -10.164419        NaN\n",
              "24             John Tyler  -10.580322        NaN\n",
              "25      Warren G. Harding  -10.089085        NaN\n",
              "26    Rutherford B. Hayes  -10.491428        NaN\n",
              "27        Franklin Pierce  -10.559058        NaN\n",
              "28        Abraham Lincoln  -10.760223        NaN\n",
              "29         James Buchanan  -10.731045        NaN\n",
              "30       William McKinley  -10.811513        NaN\n",
              "31            Gerald Ford  -10.390907        NaN\n",
              "32           William Taft  -11.038944        NaN\n",
              "33        Calvin Coolidge  -10.982153        NaN\n",
              "34      Chester A. Arthur  -10.644618        NaN\n",
              "35           James Monroe  -10.593433        NaN\n",
              "36       Martin Van Buren  -10.596874        NaN\n",
              "37      John Quincy Adams  -10.454709        NaN\n",
              "38             John Adams  -10.081866        NaN\n",
              "39       Millard Fillmore  -10.706824        NaN\n",
              "40   Dwight D. Eisenhower  -10.466077        NaN\n",
              "41         Zachary Taylor   -9.996661        NaN\n",
              "42       William Harrison  -10.051550   0.706304\n",
              "43      James A. Garfield   -9.450081   0.571679"
            ]
          },
          "metadata": {},
          "execution_count": 25
        }
      ]
    },
    {
      "cell_type": "code",
      "metadata": {
        "colab": {
          "base_uri": "https://localhost:8080/",
          "height": 879
        },
        "id": "YjBZkUVOA140",
        "outputId": "9c329ae3-dfb8-4ae0-e666-53c689585953"
      },
      "source": [
        "df_president = df_clean.loc[df_clean['President'] == 'Richard M. Nixon']\n",
        "corpus_bow, dictionary_bow = data_prepare_topic(df_president,'transcript_tokens')\n",
        "lda1,corpus,dictionary = show_topics(df_president,'transcript_clean',corpus_bow,dictionary_bow)\n",
        "pyLDAvis.enable_notebook()\n",
        "pyLDAvis.gensim_models.prepare(lda1, corpus, dictionary)"
      ],
      "execution_count": null,
      "outputs": [
        {
          "output_type": "stream",
          "name": "stdout",
          "text": [
            "ItemsView(<gensim.corpora.dictionary.Dictionary object at 0x7f7250804090>)\n"
          ]
        },
        {
          "output_type": "execute_result",
          "data": {
            "text/html": [
              "\n",
              "<link rel=\"stylesheet\" type=\"text/css\" href=\"https://cdn.jsdelivr.net/gh/bmabey/pyLDAvis@3.3.1/pyLDAvis/js/ldavis.v1.0.0.css\">\n",
              "\n",
              "\n",
              "<div id=\"ldavis_el3251401290772700968070739052\"></div>\n",
              "<script type=\"text/javascript\">\n",
              "\n",
              "var ldavis_el3251401290772700968070739052_data = {\"mdsDat\": {\"x\": [0.0013044407180960165, -8.83941356664256e-05, -0.0004321103988647334, -0.0007839361835648577], \"y\": [-0.0001044033267898629, 0.00043307937744225226, -0.00023645629337590518, -9.221975727648431e-05], \"topics\": [1, 2, 3, 4], \"cluster\": [1, 1, 1, 1], \"Freq\": [64.1398807418032, 27.956121459969772, 4.990630304065166, 2.913367494161851]}, \"tinfo\": {\"Term\": [\"cambodia\", \"watergate\", \"withdrawal\", \"south_vietnamese\", \"congress\", \"new\", \"transcript\", \"enemy\", \"committee\", \"sanctuary\", \"earth\", \"process\", \"north_vietnam\", \"president\", \"investigation\", \"tape\", \"force\", \"plan\", \"vietnam\", \"communist\", \"attorney_general\", \"proposal\", \"conversation\", \"voice\", \"heart\", \"matter\", \"charge\", \"south_vietnam\", \"policy\", \"north_vietnamese\", \"agreement\", \"south_vietnam\", \"abms\", \"statement\", \"paris\", \"republic\", \"end_war\", \"express\", \"strategic\", \"january\", \"north_vietnamese\", \"deadlock\", \"victory\", \"moscow\", \"withdrawal\", \"offensive\", \"limitation\", \"party\", \"indochina\", \"north_vietnam\", \"peace_honor\", \"president_thieu\", \"deadlocke\", \"favorable\", \"armament\", \"translate\", \"afternoon\", \"antiballistic\", \"stalemate\", \"simultaneously\", \"negotiation\", \"game\", \"weapon\", \"publicly\", \"vietnam\", \"south_vietnamese\", \"shoreham\", \"american_force\", \"level\", \"enemy\", \"military\", \"watergate\", \"communist\", \"agree\", \"private\", \"new\", \"congress\", \"die\", \"vote\", \"book\", \"bother\", \"eligible\", \"rehash\", \"lastminute\", \"nail\", \"coalition\", \"breakthrough\", \"man_woman\", \"house\", \"hate\", \"intelligence\", \"open_door\", \"override\", \"impose\", \"probably\", \"regardless\", \"mind\", \"temporary\", \"far_important\", \"tomorrow\", \"staff\", \"insult\", \"cabinet\", \"opponent\", \"saint\", \"forever\", \"pretty\", \"urge\", \"white_house\", \"person\", \"president\", \"front\", \"present\", \"opportunity\", \"land\", \"community\", \"new\", \"congress\", \"message\", \"vietnam\", \"year_ago\", \"investigation\", \"policy\", \"watergate\", \"question\", \"increase\", \"well\", \"fact\", \"crime\", \"committee\", \"area\", \"south_vietnamese\", \"game\", \"plan\", \"issue\", \"withdrawal\", \"cambodia\", \"regional\", \"nato\", \"outer\", \"treaty\", \"peace\", \"war\", \"year\", \"adversary\", \"outbreak\", \"consecutive\", \"association\", \"fiat\", \"harassment\", \"predominance\", \"sober\", \"curtain\", \"threatened\", \"deceptively\", \"romania\", \"suez\", \"scene\", \"microcosm\", \"unpopular\", \"flourish\", \"brew\", \"impasse\", \"length\", \"surely\", \"dealing\", \"diplomacy\", \"earth\", \"posture\", \"bitterness\", \"tension\", \"non\", \"kinship\", \"grip\", \"shaping\", \"transfer\", \"temptation\", \"western\", \"discourage\", \"fortunate\", \"surface\", \"unlock\", \"abundant\", \"hatred\", \"blessing\", \"breath\", \"prolong\", \"small\", \"triumph\", \"disruption\", \"brother\", \"sanctuary\", \"simple\", \"latin\", \"unity\", \"timetable\", \"national_interest\", \"middle_east\", \"fighting\", \"ford\", \"ahead\", \"relation\", \"neutrality\", \"neighbor\", \"add\", \"force\", \"longer\", \"asia\", \"heart\", \"voice\", \"open\", \"quarter\", \"want_end\", \"south_vietnamese\", \"enemy\", \"withdrawal\", \"destiny\", \"proposal\", \"new\", \"congress\", \"policy\", \"strong\", \"communist\", \"north_vietnam\", \"aggression\", \"plan\", \"casualty\", \"vietnam\", \"program\", \"change\", \"north_vietnamese\", \"south_vietnam\", \"increase\", \"offer\", \"end_war\", \"withdraw\", \"military\", \"community\", \"private\", \"peace\", \"war\", \"year\", \"interpret\", \"woods\", \"persuasive\", \"prime\", \"existence\", \"exploration\", \"consciousness\", \"wrench\", \"wild\", \"objectively\", \"lightly\", \"unnamed\", \"weighing\", \"innuendo\", \"prejudice\", \"perjure\", \"sensational\", \"newscasts\", \"vague\", \"fulfil\", \"file\", \"interrupt\", \"remotely\", \"hardly\", \"gossip\", \"seep\", \"lawmaker\", \"rodino\", \"scheme\", \"allegation\", \"mystery\", \"rumor\", \"liddys\", \"hearsay\", \"improperly\", \"boil\", \"justify\", \"probe\", \"blackmail\", \"liddy\", \"hunt\", \"insinuation\", \"controversy\", \"hutchinson\", \"instruction\", \"reelection\", \"impact\", \"petersen\", \"subpoena\", \"fulltime\", \"reluctant\", \"hang\", \"relevant\", \"abhorrent\", \"bitterness\", \"regard_watergate\", \"john_dean\", \"tape\", \"clemency\", \"story\", \"calendar\", \"prosecutor\", \"dean\", \"instinct\", \"excess\", \"integrity\", \"ordeal\", \"transcript\", \"aide\", \"servant\", \"committee\", \"associate\", \"attorney_general\", \"haldeman\", \"ehrlichman\", \"quarter\", \"implication\", \"conversation\", \"march\", \"witness\", \"guilty\", \"illegal\", \"evidence\", \"watergate\", \"investigation\", \"grand_jury\", \"duty\", \"coverup\", \"case\", \"abuse\", \"process\", \"charge\", \"get\", \"matter\", \"president\", \"crime\", \"congress\", \"constitutional\", \"achievement\", \"withdrawal\", \"south_vietnamese\", \"new\", \"vietnam\", \"fact\", \"enemy\", \"politic\", \"south_vietnam\"], \"Freq\": [10.0, 13.0, 14.0, 12.0, 12.0, 12.0, 10.0, 11.0, 9.0, 9.0, 8.0, 10.0, 11.0, 11.0, 9.0, 8.0, 9.0, 10.0, 16.0, 11.0, 8.0, 10.0, 9.0, 9.0, 8.0, 9.0, 10.0, 17.0, 9.0, 12.0, 13.04523488000247, 13.980723857015393, 8.781326621244647, 9.569952797706254, 10.220573877706936, 8.43164130957668, 10.79116366125191, 8.456473297094888, 7.936398553485179, 8.270605792531185, 9.653784152553373, 7.151344314926631, 8.340721646734709, 7.1065283877046, 10.501618319354604, 7.178034899500567, 7.111237515990824, 7.729133054652046, 7.797989859237173, 8.795628021091229, 8.084346876103924, 7.063586655520405, 6.26735012610022, 6.262245199017969, 6.259670069659091, 6.25275772639991, 6.259517014459642, 6.2456772173961115, 6.244175424181138, 6.235980146893456, 7.257262899877641, 9.043046137932615, 6.844397474238495, 6.883497715891304, 12.198341466497215, 9.326595030582727, 6.908550024906808, 6.940695516286574, 7.623348027422848, 8.317734120600939, 7.683936926616097, 9.18178823904821, 8.327274236408618, 8.051878701469267, 7.594588273034709, 8.644669775362306, 8.527873060200793, 7.521128113979537, 4.948930511210887, 2.882599197435904, 2.7179003734763403, 2.7150570865501624, 2.709579568539947, 2.7048904714953625, 2.6929071526741613, 2.662522883097285, 2.7111139194463845, 2.6483206829597123, 2.8843496152035777, 2.5812651717728246, 2.5723341957199413, 3.016877421992366, 2.5614645666594082, 3.0024145394174906, 2.7192031482974808, 2.8675563123721646, 2.747571006291277, 2.5355507778043913, 2.558221014279377, 3.1487321709479232, 2.621543051569999, 2.511750704979303, 2.50288771456614, 2.4010067718876473, 2.281613578237699, 2.381658271278371, 2.273466136682592, 2.6410400583110394, 3.252979013888683, 2.677265781525759, 3.52878209483042, 2.6516473052932765, 2.7245368341886635, 2.790328024931877, 2.9903821434626163, 2.993485050550476, 3.542484812971173, 3.503812669002143, 2.811626651125506, 4.025722915910909, 2.913564106867016, 2.956027087615826, 2.8662350539552253, 3.177881013978007, 2.818374650777995, 2.8571011832588016, 2.8355648197812755, 2.8245415856659997, 2.7559772181875695, 2.7798229688643445, 2.764757988467696, 2.812392126937732, 2.7972687213819487, 2.775804592646626, 2.765911194881452, 2.7836110437275106, 0.6100950213556366, 0.37808916977106916, 0.36072561846453466, 0.36027042154614997, 0.3601738600268859, 0.325372724387264, 0.325372724387264, 0.325372724387264, 0.36914160341591556, 0.3591375872889236, 0.3420703956491327, 0.3591680424735147, 0.3419672728011834, 0.3417825695023554, 0.34179921934797874, 0.34181951016212103, 0.34184985156644593, 0.3417301167996287, 0.34175351760771433, 0.3416956793057199, 0.3417899652196596, 0.3586861451193241, 0.3417154012185311, 0.3416273732192334, 0.3415976007162396, 0.34155576750502664, 0.3416734921538073, 0.3414581440366112, 0.3415700279650593, 0.3414639468301883, 0.39523543869588185, 0.45671880529884107, 0.3680224227906354, 0.37805450471662794, 0.35804939282281023, 0.35812611864899685, 0.3519590385861792, 0.3546109911044437, 0.3546539621183189, 0.3709457412438309, 0.37378076621044093, 0.37455196885486963, 0.3775464758279625, 0.35230075865238863, 0.3463665488677648, 0.35159262820220033, 0.36167382527644387, 0.367147035349106, 0.364076978279244, 0.3520663713039786, 0.3519460676358303, 0.4048526019177311, 0.36177103155054985, 0.3745711977198606, 0.3843583486594402, 0.4807229522094391, 0.3968998543568809, 0.3770593445815259, 0.3754782160753987, 0.3974731551916003, 0.4005219353516794, 0.4073645667817915, 0.4029756826461914, 0.37223836092158347, 0.41072529450508616, 0.38917292269771897, 0.40442835323175785, 0.39454054468333033, 0.39290882188549137, 0.4545727577709393, 0.3942785087302292, 0.3837303574434251, 0.4165767481094138, 0.43103313776055585, 0.4031732051883466, 0.38526092958459585, 0.402489044447575, 0.501532452658666, 0.47219826917706414, 0.515988007921189, 0.4031414225673163, 0.4446193738624145, 0.4892374329446098, 0.4851030752645404, 0.4288406678840369, 0.4104264695992411, 0.46003474152400115, 0.46189102864059994, 0.41547812378556376, 0.44359652719586595, 0.4190031502132779, 0.49600352818231225, 0.42633681934563344, 0.4242101523897442, 0.4454433705503686, 0.4649467493969183, 0.41461525217331835, 0.4133872217600225, 0.4304277508907628, 0.4148723955749721, 0.41701146457987914, 0.41139250198619126, 0.4109904404521306, 0.19372391679464507, 0.19372391679464507, 0.19372391679464507, 0.19843774187104754, 0.1984709081978042, 0.19838495914542148, 0.19837216199130578, 0.19837388894289923, 0.19834592561132805, 0.19833359340571827, 0.19835146071258916, 0.19828641220256846, 0.1983422724444957, 0.1983435123071782, 0.19835121716813367, 0.1983390399453592, 0.19830941608340968, 0.19832402875073904, 0.19833182217331471, 0.198290663160337, 0.19833636095634882, 0.1983028625235165, 0.1983216154465892, 0.1983169438211248, 0.1983069806388548, 0.1983137113219883, 0.19831433125332956, 0.19830089202746756, 0.19832752693473607, 0.19831521686953132, 0.2030413298707335, 0.20300853993086262, 0.20299631842727806, 0.2029479637826609, 0.20758075497660053, 0.20289518105703483, 0.20288619205258676, 0.2029362736487974, 0.20283901084943695, 0.22942206528934583, 0.2028035640609607, 0.20730056815076248, 0.20274566690176937, 0.2118532774996562, 0.2027640877187664, 0.2026774080330172, 0.2071645596425742, 0.2026762124511448, 0.21852103760204514, 0.20269500965502757, 0.22364155977870986, 0.21117290285263898, 0.22031821856031658, 0.20690629181773018, 0.2072165231732136, 0.2162876463835871, 0.20721825012480707, 0.21909456265431762, 0.2239141745860227, 0.22776481169095558, 0.25583100758398486, 0.2155887180771426, 0.2138029615678741, 0.21912011268173898, 0.22231134210323178, 0.21878140876536833, 0.20706871382913658, 0.226830973686989, 0.24339547270386055, 0.2071606407908813, 0.27409062029187276, 0.20993899593910442, 0.21056576866550894, 0.26218587948228506, 0.20978934894140872, 0.24784053540342793, 0.2266165881449432, 0.22066752773070353, 0.22321449350580666, 0.21563844542687252, 0.2498601610111814, 0.23236919674522313, 0.22941524604459215, 0.22756822703456553, 0.225939202452607, 0.22910392980926156, 0.2892239192458583, 0.251850981951972, 0.22559241728839513, 0.22832998981052632, 0.24069943558159282, 0.23399487812601996, 0.2364564926396766, 0.2484672417086173, 0.24508385571174338, 0.23495315913715564, 0.23431221655152265, 0.24263266932886268, 0.23107670631994087, 0.2437851438326436, 0.22716863700432255, 0.22794775785783822, 0.2410907672407542, 0.23756109958775132, 0.2344308669821561, 0.23679962463705612, 0.23081985548101971, 0.2313306124849911, 0.2284904634662888, 0.2290830514073046], \"Total\": [10.0, 13.0, 14.0, 12.0, 12.0, 12.0, 10.0, 11.0, 9.0, 9.0, 8.0, 10.0, 11.0, 11.0, 9.0, 8.0, 9.0, 10.0, 16.0, 11.0, 8.0, 10.0, 9.0, 9.0, 8.0, 9.0, 10.0, 17.0, 9.0, 12.0, 15.802488057209874, 17.228702624463068, 11.053022937703698, 12.066490991822855, 12.917649600080901, 10.831049025202038, 13.889919397980858, 10.94779018595722, 10.342221357738929, 10.819762132545703, 12.733592939475509, 9.531933729109223, 11.129981203589864, 9.50185189806197, 14.042308138244058, 9.61733349002892, 9.5537384856144, 10.401147608168115, 10.533375150296381, 11.884635702247891, 10.932534005350163, 9.56616447888706, 8.528552996701189, 8.523477127181852, 8.52182348837024, 8.515888381422995, 8.526306895883781, 8.509437211075635, 8.5076154601307, 8.498102233037692, 9.89453183715168, 12.380705760759406, 9.33517640514535, 9.399563226560556, 16.95686753522749, 12.878080709766875, 9.453929947169577, 9.50582727358749, 10.51922883479386, 11.579846252529004, 10.642852889414735, 13.046384835720314, 11.697864788915405, 11.290265414147392, 10.567603490276344, 12.910822888260245, 12.76057394830012, 10.719792921245789, 11.703974705697062, 7.825534291136399, 7.396102280507783, 7.410686544083087, 7.406593999795944, 7.409957968520761, 7.425504566769155, 7.455687704220102, 7.646580597845194, 7.480176253798604, 8.195365060482374, 7.360625883320207, 7.368355407222113, 8.66855937655345, 7.362720359181748, 8.631904273640162, 7.872251453780173, 8.320743414613345, 8.012965544515845, 7.492074444572148, 7.579684030498286, 9.360896009588478, 7.836062883491865, 7.511044865803032, 7.518129892322712, 7.2246722030593435, 6.884700819599113, 7.192530649028061, 6.876806430957256, 7.995961795968, 9.907446564691506, 8.202788277215756, 11.196987750736689, 8.129227643782547, 8.412370115880977, 8.724971238024189, 9.68442642556688, 9.79991998735278, 12.910822888260245, 12.76057394830012, 8.892882347251579, 16.95686753522749, 9.559225018320587, 9.843118779441882, 9.604788725775103, 13.046384835720314, 9.332323931109867, 9.86691011606911, 9.609664552943954, 10.606306378640586, 8.841705076938357, 9.692726465289216, 9.573166967764232, 12.878080709766875, 12.380705760759406, 10.945920226150841, 9.969915238024745, 14.042308138244058, 10.743765279363334, 6.956324640703194, 6.6501096589148965, 6.648386030581158, 6.648878058019246, 6.018755678459446, 6.018755678459446, 6.018755678459446, 6.831272874798129, 6.654334680659408, 6.338495160350701, 6.656686224212746, 6.338730286899714, 6.338780230039551, 6.339240810961067, 6.339826412665572, 6.340502893127697, 6.340550347264061, 6.341506296823579, 6.340545718501136, 6.342584967780349, 6.656865975613537, 6.34261866781269, 6.341844785079024, 6.341689819110809, 6.341040979358605, 6.3434852431706865, 6.3398803042160825, 6.342534905043921, 6.340822822126557, 7.34109276813426, 8.507491893625868, 6.857374880129791, 7.0559565411711604, 6.664493683044314, 6.668205623222715, 6.547331869215463, 6.602678676659509, 6.6047446991276315, 6.935284566829142, 6.994670984453806, 7.011487249911606, 7.09100457152265, 6.561754885696573, 6.438250137229885, 6.550028108181998, 6.767800548344301, 6.889893792182411, 6.8233901806273405, 6.5614070314371, 6.558811203205271, 7.7577331728594405, 6.778489900387757, 7.071696384942362, 7.298301445366978, 9.613222916460147, 7.597182693198402, 7.137752800207834, 7.1001569549649535, 7.682082589354182, 7.761631815917795, 7.9644522748237945, 7.894426456786357, 7.045861754578867, 8.13068489169667, 7.518385870820805, 7.974393010823517, 7.729282018641293, 7.67889343330494, 9.826289379175602, 7.7549452765351266, 7.403731445063429, 8.593726860781313, 9.194006675531023, 8.14647832719565, 7.462123493046638, 8.151028686651921, 12.878080709766875, 11.579846252529004, 14.042308138244058, 8.230253505814394, 10.300707221891157, 12.910822888260245, 12.76057394830012, 9.604788725775103, 8.609192523988991, 11.697864788915405, 11.884635702247891, 8.994902729870248, 10.945920226150841, 9.279766530782826, 16.95686753522749, 10.320762280763926, 10.186647499977243, 12.733592939475509, 17.228702624463068, 9.86691011606911, 9.668629753413981, 13.889919397980858, 10.007130614483074, 10.642852889414735, 9.79991998735278, 10.567603490276344, 6.018755678459446, 6.018755678459446, 6.018755678459446, 6.183668518722295, 6.185032370024282, 6.183228105180329, 6.1849101364071375, 6.185070056624219, 6.184728100744551, 6.185228348158242, 6.185830393497728, 6.1839034132426205, 6.1857268731391155, 6.18581817498488, 6.186216061961901, 6.185850347566669, 6.185038992554141, 6.185553839348427, 6.18580689591749, 6.184531801068118, 6.186043819402949, 6.184999065534265, 6.185658127439775, 6.1856568720193605, 6.185375597981351, 6.185674236266209, 6.185718363388903, 6.185354569390365, 6.1862572140505065, 6.185923260545404, 6.351996366752118, 6.352713489767497, 6.353988244803352, 6.353525542857855, 6.523048492939822, 6.352635164235451, 6.352388842315838, 6.354290610111102, 6.352885312973959, 7.36704595634151, 6.354097512060475, 6.527012072677286, 6.352928103074924, 6.702783972527461, 6.354872350623762, 6.352265453213969, 6.52680526036365, 6.356750498044962, 6.992861128902398, 6.359555000654626, 7.215129554045189, 6.704879992188914, 7.09287074320213, 6.534802832707801, 6.550364445530799, 6.932833351013285, 6.550602384049284, 7.0559565411711604, 7.269208567444766, 7.442757324080591, 8.733843038619272, 6.915827252561186, 6.843524286319834, 7.096314514986464, 7.261205712003755, 7.09819004113959, 6.55047854890946, 7.511747111204972, 8.398421463750667, 6.566451254258758, 10.366750607896925, 6.710401151988182, 6.744810975567064, 9.692726465289216, 6.704860399333896, 8.872377426408324, 7.629156486070045, 7.312264965721478, 7.462123493046638, 7.02826849569762, 9.197340137051558, 8.095313524378312, 7.935838354927562, 7.820425596085306, 7.716720207500528, 7.9733030535615566, 13.046384835720314, 9.843118779441882, 7.750549756749321, 7.979228699631218, 9.29274013245223, 8.622765667347101, 8.98087105906479, 10.475850315937262, 10.577367455796026, 9.113224475348003, 9.237639073511343, 11.196987750736689, 8.841705076938357, 12.76057394830012, 8.17361389049101, 8.433656864747105, 14.042308138244058, 12.878080709766875, 12.910822888260245, 16.95686753522749, 10.606306378640586, 11.579846252529004, 9.598658577381013, 17.228702624463068], \"Category\": [\"Default\", \"Default\", \"Default\", \"Default\", \"Default\", \"Default\", \"Default\", \"Default\", \"Default\", \"Default\", \"Default\", \"Default\", \"Default\", \"Default\", \"Default\", \"Default\", \"Default\", \"Default\", \"Default\", \"Default\", \"Default\", \"Default\", \"Default\", \"Default\", \"Default\", \"Default\", \"Default\", \"Default\", \"Default\", \"Default\", \"Topic1\", \"Topic1\", \"Topic1\", \"Topic1\", \"Topic1\", \"Topic1\", \"Topic1\", \"Topic1\", \"Topic1\", \"Topic1\", \"Topic1\", \"Topic1\", \"Topic1\", \"Topic1\", \"Topic1\", \"Topic1\", \"Topic1\", \"Topic1\", \"Topic1\", \"Topic1\", \"Topic1\", \"Topic1\", \"Topic1\", \"Topic1\", \"Topic1\", \"Topic1\", \"Topic1\", \"Topic1\", \"Topic1\", \"Topic1\", \"Topic1\", \"Topic1\", \"Topic1\", \"Topic1\", \"Topic1\", \"Topic1\", \"Topic1\", \"Topic1\", \"Topic1\", \"Topic1\", \"Topic1\", \"Topic1\", \"Topic1\", \"Topic1\", \"Topic1\", \"Topic1\", \"Topic1\", \"Topic1\", \"Topic2\", \"Topic2\", \"Topic2\", \"Topic2\", \"Topic2\", \"Topic2\", \"Topic2\", \"Topic2\", \"Topic2\", \"Topic2\", \"Topic2\", \"Topic2\", \"Topic2\", \"Topic2\", \"Topic2\", \"Topic2\", \"Topic2\", \"Topic2\", \"Topic2\", \"Topic2\", \"Topic2\", \"Topic2\", \"Topic2\", \"Topic2\", \"Topic2\", \"Topic2\", \"Topic2\", \"Topic2\", \"Topic2\", \"Topic2\", \"Topic2\", \"Topic2\", \"Topic2\", \"Topic2\", \"Topic2\", \"Topic2\", \"Topic2\", \"Topic2\", \"Topic2\", \"Topic2\", \"Topic2\", \"Topic2\", \"Topic2\", \"Topic2\", \"Topic2\", \"Topic2\", \"Topic2\", \"Topic2\", \"Topic2\", \"Topic2\", \"Topic2\", \"Topic2\", \"Topic2\", \"Topic2\", \"Topic2\", \"Topic2\", \"Topic2\", \"Topic2\", \"Topic3\", \"Topic3\", \"Topic3\", \"Topic3\", \"Topic3\", \"Topic3\", \"Topic3\", \"Topic3\", \"Topic3\", \"Topic3\", \"Topic3\", \"Topic3\", \"Topic3\", \"Topic3\", \"Topic3\", \"Topic3\", \"Topic3\", \"Topic3\", \"Topic3\", \"Topic3\", \"Topic3\", \"Topic3\", \"Topic3\", \"Topic3\", \"Topic3\", \"Topic3\", \"Topic3\", \"Topic3\", \"Topic3\", \"Topic3\", \"Topic3\", \"Topic3\", \"Topic3\", \"Topic3\", \"Topic3\", \"Topic3\", \"Topic3\", \"Topic3\", \"Topic3\", \"Topic3\", \"Topic3\", \"Topic3\", \"Topic3\", \"Topic3\", \"Topic3\", \"Topic3\", \"Topic3\", \"Topic3\", \"Topic3\", \"Topic3\", \"Topic3\", \"Topic3\", \"Topic3\", \"Topic3\", \"Topic3\", \"Topic3\", \"Topic3\", \"Topic3\", \"Topic3\", \"Topic3\", \"Topic3\", \"Topic3\", \"Topic3\", \"Topic3\", \"Topic3\", \"Topic3\", \"Topic3\", \"Topic3\", \"Topic3\", \"Topic3\", \"Topic3\", \"Topic3\", \"Topic3\", \"Topic3\", \"Topic3\", \"Topic3\", \"Topic3\", \"Topic3\", \"Topic3\", \"Topic3\", \"Topic3\", \"Topic3\", \"Topic3\", \"Topic3\", \"Topic3\", \"Topic3\", \"Topic3\", \"Topic3\", \"Topic3\", \"Topic3\", \"Topic3\", \"Topic3\", \"Topic3\", \"Topic3\", \"Topic3\", \"Topic3\", \"Topic3\", \"Topic3\", \"Topic3\", \"Topic3\", \"Topic3\", \"Topic3\", \"Topic3\", \"Topic4\", \"Topic4\", \"Topic4\", \"Topic4\", \"Topic4\", \"Topic4\", \"Topic4\", \"Topic4\", \"Topic4\", \"Topic4\", \"Topic4\", \"Topic4\", \"Topic4\", \"Topic4\", \"Topic4\", \"Topic4\", \"Topic4\", \"Topic4\", \"Topic4\", \"Topic4\", \"Topic4\", \"Topic4\", \"Topic4\", \"Topic4\", \"Topic4\", \"Topic4\", \"Topic4\", \"Topic4\", \"Topic4\", \"Topic4\", \"Topic4\", \"Topic4\", \"Topic4\", \"Topic4\", \"Topic4\", \"Topic4\", \"Topic4\", \"Topic4\", \"Topic4\", \"Topic4\", \"Topic4\", \"Topic4\", \"Topic4\", \"Topic4\", \"Topic4\", \"Topic4\", \"Topic4\", \"Topic4\", \"Topic4\", \"Topic4\", \"Topic4\", \"Topic4\", \"Topic4\", \"Topic4\", \"Topic4\", \"Topic4\", \"Topic4\", \"Topic4\", \"Topic4\", \"Topic4\", \"Topic4\", \"Topic4\", \"Topic4\", \"Topic4\", \"Topic4\", \"Topic4\", \"Topic4\", \"Topic4\", \"Topic4\", \"Topic4\", \"Topic4\", \"Topic4\", \"Topic4\", \"Topic4\", \"Topic4\", \"Topic4\", \"Topic4\", \"Topic4\", \"Topic4\", \"Topic4\", \"Topic4\", \"Topic4\", \"Topic4\", \"Topic4\", \"Topic4\", \"Topic4\", \"Topic4\", \"Topic4\", \"Topic4\", \"Topic4\", \"Topic4\", \"Topic4\", \"Topic4\", \"Topic4\", \"Topic4\", \"Topic4\", \"Topic4\", \"Topic4\", \"Topic4\", \"Topic4\", \"Topic4\", \"Topic4\", \"Topic4\", \"Topic4\", \"Topic4\", \"Topic4\", \"Topic4\", \"Topic4\", \"Topic4\", \"Topic4\"], \"logprob\": [30.0, 29.0, 28.0, 27.0, 26.0, 25.0, 24.0, 23.0, 22.0, 21.0, 20.0, 19.0, 18.0, 17.0, 16.0, 15.0, 14.0, 13.0, 12.0, 11.0, 10.0, 9.0, 8.0, 7.0, 6.0, 5.0, 4.0, 3.0, 2.0, 1.0, -7.1576, -7.0884, -7.5534, -7.4674, -7.4016, -7.5941, -7.3473, -7.5911, -7.6546, -7.6133, -7.4587, -7.7587, -7.6049, -7.765, -7.3745, -7.755, -7.7644, -7.681, -7.6722, -7.5518, -7.6361, -7.7711, -7.8907, -7.8915, -7.8919, -7.893, -7.8919, -7.8942, -7.8944, -7.8957, -7.744, -7.5241, -7.8026, -7.7969, -7.2247, -7.4932, -7.7933, -7.7886, -7.6948, -7.6077, -7.6869, -7.5088, -7.6065, -7.6401, -7.6986, -7.5691, -7.5827, -7.7083, -7.2964, -7.8369, -7.8958, -7.8968, -7.8988, -7.9006, -7.905, -7.9163, -7.8983, -7.9217, -7.8363, -7.9473, -7.9508, -7.7914, -7.955, -7.7962, -7.8953, -7.8422, -7.8849, -7.9652, -7.9563, -7.7486, -7.9319, -7.9746, -7.9782, -8.0197, -8.0707, -8.0278, -8.0743, -7.9244, -7.716, -7.9108, -7.6347, -7.9204, -7.8933, -7.8695, -7.8002, -7.7992, -7.6308, -7.6418, -7.8619, -7.5029, -7.8262, -7.8118, -7.8426, -7.7394, -7.8595, -7.8458, -7.8534, -7.8573, -7.8818, -7.8732, -7.8787, -7.8616, -7.867, -7.8747, -7.8782, -7.8719, -7.6667, -8.1452, -8.1922, -8.1934, -8.1937, -8.2953, -8.2953, -8.2953, -8.1691, -8.1966, -8.2453, -8.1965, -8.2456, -8.2461, -8.2461, -8.246, -8.2459, -8.2463, -8.2462, -8.2464, -8.2461, -8.1978, -8.2463, -8.2466, -8.2467, -8.2468, -8.2464, -8.2471, -8.2467, -8.2471, -8.1008, -7.9562, -8.1722, -8.1453, -8.1996, -8.1994, -8.2168, -8.2093, -8.2092, -8.1642, -8.1566, -8.1546, -8.1466, -8.2158, -8.2328, -8.2178, -8.1896, -8.1745, -8.1829, -8.2165, -8.2168, -8.0768, -8.1893, -8.1545, -8.1287, -7.905, -8.0966, -8.1479, -8.1521, -8.0952, -8.0875, -8.0706, -8.0814, -8.1608, -8.0624, -8.1163, -8.0778, -8.1026, -8.1067, -7.9609, -8.1032, -8.1304, -8.0482, -8.0141, -8.0809, -8.1264, -8.0826, -7.8626, -7.9229, -7.8342, -8.081, -7.9831, -7.8874, -7.8959, -8.0192, -8.0631, -7.949, -7.945, -8.0509, -7.9854, -8.0424, -7.8737, -8.0251, -8.0301, -7.9812, -7.9384, -8.0529, -8.0559, -8.0155, -8.0523, -8.0472, -8.0607, -8.0617, -8.2756, -8.2756, -8.2756, -8.2516, -8.2514, -8.2518, -8.2519, -8.2519, -8.252, -8.2521, -8.252, -8.2523, -8.2521, -8.252, -8.252, -8.2521, -8.2522, -8.2521, -8.2521, -8.2523, -8.2521, -8.2522, -8.2522, -8.2522, -8.2522, -8.2522, -8.2522, -8.2523, -8.2521, -8.2522, -8.2286, -8.2288, -8.2289, -8.2291, -8.2065, -8.2294, -8.2294, -8.2292, -8.2296, -8.1065, -8.2298, -8.2079, -8.2301, -8.1862, -8.23, -8.2304, -8.2085, -8.2304, -8.1552, -8.2303, -8.132, -8.1894, -8.147, -8.2098, -8.2083, -8.1654, -8.2083, -8.1525, -8.1308, -8.1137, -7.9975, -8.1687, -8.177, -8.1524, -8.138, -8.154, -8.209, -8.1178, -8.0474, -8.2086, -7.9286, -8.1952, -8.1922, -7.973, -8.1959, -8.0293, -8.1188, -8.1454, -8.1339, -8.1684, -8.0211, -8.0937, -8.1065, -8.1146, -8.1218, -8.1079, -7.8748, -8.0132, -8.1233, -8.1113, -8.0585, -8.0867, -8.0763, -8.0267, -8.0404, -8.0827, -8.0854, -8.0505, -8.0993, -8.0458, -8.1164, -8.1129, -8.0569, -8.0716, -8.0849, -8.0748, -8.1004, -8.0982, -8.1106, -8.108], \"loglift\": [30.0, 29.0, 28.0, 27.0, 26.0, 25.0, 24.0, 23.0, 22.0, 21.0, 20.0, 19.0, 18.0, 17.0, 16.0, 15.0, 14.0, 13.0, 12.0, 11.0, 10.0, 9.0, 8.0, 7.0, 6.0, 5.0, 4.0, 3.0, 2.0, 1.0, 0.2524, 0.2352, 0.214, 0.2123, 0.2099, 0.1937, 0.1917, 0.1859, 0.1793, 0.1754, 0.1672, 0.1568, 0.1556, 0.1536, 0.1536, 0.1516, 0.1488, 0.1472, 0.1434, 0.1431, 0.1423, 0.1408, 0.136, 0.1358, 0.1356, 0.1352, 0.1351, 0.1348, 0.1348, 0.1346, 0.1341, 0.13, 0.1337, 0.1326, 0.1147, 0.1214, 0.1304, 0.1296, 0.1221, 0.1132, 0.1183, 0.0928, 0.1042, 0.1061, 0.1137, 0.043, 0.0411, 0.0897, 0.4138, 0.2758, 0.2734, 0.2704, 0.269, 0.2668, 0.2602, 0.2448, 0.2376, 0.2362, 0.2303, 0.2267, 0.2222, 0.2191, 0.2187, 0.2185, 0.2115, 0.2092, 0.2042, 0.1911, 0.1884, 0.185, 0.1796, 0.1791, 0.1747, 0.1729, 0.1701, 0.1693, 0.1677, 0.1668, 0.1608, 0.1549, 0.1198, 0.1542, 0.1471, 0.1345, 0.0994, 0.0886, -0.0187, -0.018, 0.123, -0.1634, 0.0864, 0.0716, 0.0653, -0.1378, 0.0772, 0.0352, 0.054, -0.0486, 0.1088, 0.0255, 0.0325, -0.247, -0.213, -0.0975, -0.0077, -0.3438, 0.1291, 0.0853, 0.0833, 0.0823, 0.082, 0.0799, 0.0799, 0.0799, 0.0795, 0.0783, 0.0782, 0.078, 0.0779, 0.0773, 0.0773, 0.0773, 0.0773, 0.0769, 0.0768, 0.0768, 0.0768, 0.0767, 0.0765, 0.0764, 0.0763, 0.0763, 0.0763, 0.0762, 0.0761, 0.0761, 0.0758, 0.073, 0.0727, 0.071, 0.0737, 0.0734, 0.0743, 0.0734, 0.0732, 0.0693, 0.0684, 0.068, 0.0647, 0.0731, 0.0751, 0.0729, 0.0684, 0.0656, 0.0669, 0.0725, 0.0725, 0.0447, 0.0671, 0.0595, 0.0538, 0.002, 0.0458, 0.0569, 0.0579, 0.0361, 0.0334, 0.0246, 0.0226, 0.0569, 0.0121, 0.0365, 0.0161, 0.0226, 0.025, -0.0759, 0.0186, 0.0378, -0.0291, -0.0625, -0.0084, 0.0339, -0.0106, -0.248, -0.202, -0.3061, -0.0187, -0.1451, -0.2754, -0.2721, -0.1113, -0.0458, -0.2383, -0.2501, -0.0774, -0.2082, -0.1001, -0.5342, -0.1891, -0.181, -0.3553, -0.6148, -0.172, -0.1546, -0.4765, -0.1855, -0.2419, -0.173, -0.2494, 0.0997, 0.0997, 0.0997, 0.0967, 0.0966, 0.0965, 0.0961, 0.0961, 0.096, 0.0959, 0.0959, 0.0959, 0.0959, 0.0958, 0.0958, 0.0958, 0.0958, 0.0958, 0.0958, 0.0958, 0.0958, 0.0958, 0.0958, 0.0957, 0.0957, 0.0957, 0.0957, 0.0957, 0.0957, 0.0957, 0.0927, 0.0925, 0.0922, 0.092, 0.0883, 0.0919, 0.0919, 0.0919, 0.0916, 0.0667, 0.0912, 0.0863, 0.0911, 0.0815, 0.0909, 0.0909, 0.0857, 0.0902, 0.0701, 0.0898, 0.062, 0.0779, 0.0641, 0.0832, 0.0823, 0.0684, 0.0823, 0.0637, 0.0557, 0.0492, 0.0054, 0.0677, 0.0699, 0.0581, 0.0496, 0.0563, 0.0816, 0.0358, -0.0053, 0.0796, -0.097, 0.0713, 0.0691, -0.0742, 0.0714, -0.0421, 0.0194, 0.0352, 0.0264, 0.0518, -0.0699, -0.0149, -0.0078, -0.0012, 0.005, -0.0138, -0.2732, -0.1298, -0.0009, -0.0179, -0.1176, -0.071, -0.1012, -0.2057, -0.229, -0.1222, -0.1385, -0.296, -0.1086, -0.422, -0.0471, -0.075, -0.5288, -0.457, -0.4728, -0.7354, -0.2917, -0.3773, -0.202, -0.7844]}, \"token.table\": {\"Topic\": [1, 2, 1, 2, 1, 2, 1, 2, 1, 2, 1, 2, 1, 2, 1, 2, 1, 2, 1, 2, 1, 2, 1, 2, 1, 2, 1, 2, 1, 2, 1, 2, 1, 2, 1, 2, 1, 2, 1, 2, 1, 2, 1, 2, 1, 2, 1, 2, 1, 2, 1, 2, 1, 2, 1, 2, 1, 2, 1, 2, 1, 2, 1, 2, 1, 2, 1, 2, 1, 2, 3, 1, 2, 1, 2, 1, 2, 1, 2, 1, 2, 1, 2, 1, 2, 1, 2, 1, 2, 1, 2, 1, 2, 1, 2, 1, 2, 1, 2, 1, 2, 1, 2, 1, 2, 1, 2, 1, 2, 1, 2, 1, 2, 1, 2, 1, 2, 1, 2, 1, 2, 1, 2, 1, 2, 1, 2, 1, 2, 1, 2, 1, 2, 1, 2, 1, 2, 1, 2, 1, 2, 1, 2, 1, 2, 1, 2, 1, 2, 1, 2, 1, 2, 1, 2, 1, 2, 1, 2, 1, 2, 1, 2, 1, 2, 1, 2, 1, 2, 1, 2, 1, 2, 1, 2, 1, 2, 1, 2, 1, 2, 1, 2, 1, 2, 1, 2, 1, 2, 1, 2, 1, 2, 1, 2, 1, 2, 1, 2, 1, 2, 1, 2, 1, 2, 1, 2, 1, 2, 1, 2, 1, 2, 1, 2, 1, 2, 1, 2, 1, 2, 1, 2, 1, 2, 1, 2, 1, 2, 1, 2, 1, 2, 1, 2, 1, 2, 1, 2, 1, 2, 1, 2, 1, 2, 1, 2, 1, 2, 1, 2, 1, 2, 1, 2, 1, 2, 1, 2, 1, 2, 1, 2, 1, 2, 1, 2, 1, 2, 1, 2, 1, 2, 1, 2, 1, 2, 1, 2, 1, 2, 1, 2, 1, 2, 1, 2, 1, 2, 1, 2, 1, 2, 1, 2, 1, 2, 1, 2, 1, 2, 1, 2, 1, 2, 1, 2, 1, 2, 1, 2, 1, 2, 1, 2, 1, 2, 1, 2, 1, 2, 1, 2, 1, 2, 1, 2, 1, 2, 1, 2, 1, 2, 1, 2, 1, 2, 1, 2, 1, 2, 1, 2, 1, 2, 1, 2, 1, 2, 1, 2, 1, 2, 1, 2, 1, 2, 1, 2, 1, 2, 1, 2, 1, 2, 1, 2, 1, 2, 1, 2, 1, 2, 1, 2, 1, 2, 1, 2, 1, 2, 1, 2, 1, 2, 1, 2, 1, 2, 1, 2, 1, 2, 1, 2, 1, 2, 1, 2, 1, 2, 1, 2, 1, 2, 1, 2, 1, 2, 1, 2, 1, 2, 1, 2, 1, 2, 1, 2, 1, 2, 1, 2, 1, 2, 1, 2, 1, 2, 1, 2, 1, 2, 1, 2, 1, 2, 1, 2, 1, 2, 1, 2, 1, 2, 1, 2, 1, 2, 1, 2, 1, 2, 1, 2, 1, 2, 1, 2, 3, 1, 2, 1, 2, 1, 2, 1, 2, 1, 2, 1, 2, 1, 2, 1, 2, 1, 2, 1, 2, 1, 2, 1, 2, 1, 2, 1, 2, 1, 2, 1, 2, 1, 2, 1, 2, 1, 2, 1, 2, 1, 2, 1, 2, 1, 2, 1, 2, 1, 2, 1, 2, 1, 2, 1, 2, 1, 2, 1, 2, 1, 2, 1, 2, 1, 2, 1, 2, 1, 2, 1, 2, 1, 2, 1, 2, 1, 2, 1, 2, 1, 2, 1, 2, 1, 2, 3, 1, 2, 1, 2, 1, 2, 1, 2, 1, 2], \"Freq\": [0.610630864993424, 0.305315432496712, 0.814256882549253, 0.18094597389983402, 0.5910339661204369, 0.29551698306021845, 0.6680866433266441, 0.22269554777554806, 0.5928626312626168, 0.23714505250504672, 0.651135485005427, 0.2604541940021708, 0.585542412565126, 0.292771206282563, 0.7037044377204626, 0.2345681459068209, 0.6670444561979773, 0.2223481520659924, 0.7085750163123279, 0.265715631117123, 0.8226552649770084, 0.1265623484580013, 0.6149543447571272, 0.24598173790285088, 0.5960895495517232, 0.2980447747758616, 0.6295258734970787, 0.31476293674853933, 0.7363904054358235, 0.21039725869594955, 0.7050995090710083, 0.23503316969033608, 0.6267518387806069, 0.31337591939030346, 0.7040746629155391, 0.23469155430517968, 0.6753351383826651, 0.27013405535306606, 0.5965821451550857, 0.29829107257754284, 0.6008995865616394, 0.3004497932808197, 0.6762561725723263, 0.33812808628616314, 0.5668969156286885, 0.28344845781434425, 0.6128378430222909, 0.30641892151114547, 0.5862188580914833, 0.29310942904574167, 0.6296351662182755, 0.31481758310913777, 0.5111472074859611, 0.38336040561447077, 0.5408254034752719, 0.40561905260645387, 0.5231096368914492, 0.3923322276685869, 0.6096253411555094, 0.3048126705777547, 0.6308112521304978, 0.3154056260652489, 0.6850909129238614, 0.27403636516954455, 0.5320472055270925, 0.3990354041453194, 0.5636728743564757, 0.28183643717823786, 0.6515406673529649, 0.1861544763865614, 0.0930772381932807, 0.6958324314344927, 0.23194414381149758, 0.6465679907028706, 0.3232839953514353, 0.6871740678192347, 0.29450317192252917, 0.6617903773555911, 0.28362444743811044, 0.5783834462491313, 0.28919172312456565, 0.5365031582178398, 0.4023773686633798, 0.6190208731760563, 0.3095104365880281, 0.6838854905880425, 0.25645705897051596, 0.6122498967076526, 0.3061249483538263, 0.7052974291331873, 0.31346552405919437, 0.646702073851658, 0.323351036925829, 0.6310646137306012, 0.3155323068653006, 0.611724515861568, 0.24468980634462717, 0.629696606582487, 0.3148483032912435, 0.6523625211846795, 0.32618126059233976, 0.6456653166321439, 0.21522177221071462, 0.5655017846095546, 0.33930107076573274, 0.6308647858729777, 0.31543239293648884, 0.7343735488448642, 0.20982101395567546, 0.703519108378734, 0.234506369459578, 0.6308329553132819, 0.31541647765664094, 0.7044049216801846, 0.28176196867207387, 0.6307649654157996, 0.3153824827078998, 0.7290176415296569, 0.24300588050988564, 0.7462830727023306, 0.27985615226337396, 0.6810975093113761, 0.27243900372455043, 0.5640949684426844, 0.2820474842213422, 0.7070439294659782, 0.2828175717863913, 0.6266269821581989, 0.25065079286327957, 0.7052607366567607, 0.23508691221892022, 0.6837826615199338, 0.27351306460797353, 0.5397610567125821, 0.40482079253443654, 0.7919412406092897, 0.14398931647441632, 0.6908554591778646, 0.25907079719169923, 0.6270926824694785, 0.2508370729877914, 0.6656241119381802, 0.2662496447752721, 0.6467186245879292, 0.3233593122939646, 0.6467543818973155, 0.32337719094865774, 0.7307410777986626, 0.18268526944966565, 0.6599847062778506, 0.2828505884047931, 0.5277264835717751, 0.39579486267883135, 0.7039380654716206, 0.23464602182387356, 0.6310412052500199, 0.31552060262500997, 0.633358234112347, 0.2533432936449388, 0.6466572722605879, 0.32332863613029394, 0.6307467116959773, 0.31537335584798865, 0.712374705230519, 0.3053034450987939, 0.5677091233589043, 0.28385456167945217, 0.556132492885592, 0.278066246442796, 0.6095930234637794, 0.3047965117318897, 0.6150645816671323, 0.3690387490002794, 0.6466571410171981, 0.32332857050859903, 0.5639465520831091, 0.28197327604155453, 0.7269375570272788, 0.24231251900909292, 0.6583838701911137, 0.32919193509555683, 0.6466888769473152, 0.3233444384736576, 0.6451155281786183, 0.25804621127144733, 0.6058147300337382, 0.3029073650168691, 0.6393513931649533, 0.25574055726598127, 0.6553804485632744, 0.2621521794253098, 0.6106530458361185, 0.30532652291805923, 0.6310362332872742, 0.3155181166436371, 0.646650843930205, 0.3233254219651025, 0.5434320482262703, 0.4075740361697027, 0.5805604731583212, 0.2902802365791606, 0.6296843753257637, 0.31484218766288186, 0.581819748404875, 0.349091849042925, 0.6101009489021717, 0.36606056934130304, 0.5967669577886895, 0.29838347889434474, 0.6128572617742136, 0.3064286308871068, 0.6479436684953382, 0.2591774673981353, 0.6289748260040611, 0.31448741300203054, 0.6305681887265913, 0.31528409436329563, 0.5691302206864486, 0.2845651103432243, 0.5792464607454977, 0.3475478764472986, 0.629495917866127, 0.3147479589330635, 0.6080931040639039, 0.30404655203195197, 0.7594906557348716, 0.1898726639337179, 0.64672187270208, 0.32336093635104, 0.6294382922746481, 0.31471914613732405, 0.6106424088154491, 0.30532120440772453, 0.6292523202271684, 0.3146261601135842, 0.5325490755902104, 0.39941180669265774, 0.5953499739898789, 0.3572099843939273, 0.5428619792252949, 0.40714648441897117, 0.6468652043506534, 0.3234326021753267, 0.646686678381412, 0.323343339190706, 0.6095628971308835, 0.30478144856544176, 0.7021122881067593, 0.3009052663314683, 0.7393877889363302, 0.18484694723408254, 0.6717940384570652, 0.26871761538282607, 0.6786980873515563, 0.27147923494062254, 0.6109358865414137, 0.30546794327070687, 0.6195514051467214, 0.3097757025733607, 0.5398141280953196, 0.40486059607148966, 0.7005005833004488, 0.28020023332017957, 0.6466294248285462, 0.3233147124142731, 0.6309267380552849, 0.31546336902764244, 0.7605120228527448, 0.1901280057131862, 0.6296309253151996, 0.3148154626575998, 0.6296599594636734, 0.3148299797318367, 0.6466404098613482, 0.3233202049306741, 0.7326974681733536, 0.20934213376381533, 0.6447498752994395, 0.2578999501197758, 0.5347467578679993, 0.4010600684009995, 0.6176413038164548, 0.2470565215265819, 0.6495166083295918, 0.3247583041647959, 0.6746968829351881, 0.3373484414675941, 0.6306543416048432, 0.3153271708024216, 0.6277895613494174, 0.251115824539767, 0.7516781527589009, 0.18791953818972523, 0.6239887058321436, 0.37439322349928617, 0.7366984957351044, 0.2104852844957441, 0.6295717193576867, 0.31478585967884337, 0.5386839323890422, 0.40401294929178166, 0.644194432122617, 0.25767777284904675, 0.6014938407275352, 0.3007469203637676, 0.7074614661116777, 0.20213184746047935, 0.6468906151879465, 0.25875624607517866, 0.6270069700870748, 0.25080278803482997, 0.6970895718958131, 0.30981758750925026, 0.6466168227670368, 0.3233084113835184, 0.5998615258758049, 0.29993076293790244, 0.7572802587712231, 0.1682845019491607, 0.7853243030094769, 0.15706486060189537, 0.6466499543278559, 0.32332497716392794, 0.7278524767033894, 0.20795785048668267, 0.7239909044534784, 0.20685454412956525, 0.6137621434906835, 0.2455048573962734, 0.5767971104315098, 0.34607826625890586, 0.5536583373715099, 0.27682916868575497, 0.5730677916976462, 0.3438406750185877, 0.6091570385763159, 0.30457851928815793, 0.6011119355967863, 0.30055596779839316, 0.6016497811048956, 0.3008248905524478, 0.5432774579047761, 0.4074580934285821, 0.7741346382346036, 0.15482692764692071, 0.7691458963352782, 0.19228647408381955, 0.6645891964539481, 0.33229459822697405, 0.7317608155698359, 0.18294020389245896, 0.6466415889315783, 0.32332079446578915, 0.6095488303517609, 0.36572929821105654, 0.6469112786974148, 0.3234556393487074, 0.6929882495591131, 0.2771952998236452, 0.7308659148535763, 0.27407471807009115, 0.6246883894383426, 0.3123441947191713, 0.6250873444065239, 0.31254367220326196, 0.5833135959345846, 0.2916567979672923, 0.6309903850132451, 0.31549519250662256, 0.6466680436203837, 0.32333402181019183, 0.5943628170330901, 0.35661769021985407, 0.6251681394881803, 0.3572389368503887, 0.7317457289647594, 0.20907020827564554, 0.5816653471578372, 0.2908326735789186, 0.646735346477262, 0.323367673238631, 0.7570306746805088, 0.1892576686701272, 0.635142313397402, 0.3810853880384412, 0.6295150479525612, 0.3147575239762806, 0.6682035146445979, 0.28637293484768483, 0.6782444755119261, 0.19378413586055032, 0.6098666169938254, 0.3049333084969127, 0.6795649899769538, 0.2912421385615516, 0.6885908757183843, 0.27543635028735375, 0.7447154544606864, 0.21277584413162468, 0.6700505566088666, 0.26802022264354664, 0.642926675530265, 0.3214633377651325, 0.5720119313491703, 0.28600596567458514, 0.6878327886191844, 0.27513311544767377, 0.6009078457122865, 0.36054470742737194, 0.5750162918784728, 0.2875081459392364, 0.5400593039270416, 0.40504447794528115, 0.6650363636435881, 0.26601454545743525, 0.5769646834818798, 0.2884823417409399, 0.612107220738064, 0.306053610369032, 0.6466554569828876, 0.3233277284914438, 0.7386172827198306, 0.18465432067995766, 0.629723282106546, 0.314861641053273, 0.6308605248801162, 0.3154302624400581, 0.6132102197813452, 0.3066051098906726, 0.5809983766633616, 0.2904991883316808, 0.7281637033522148, 0.20804677238634708, 0.6008833608267644, 0.3004416804133822, 0.6296521960958759, 0.31482609804793793, 0.6465945177505745, 0.32329725887528726, 0.6467749101571711, 0.3233874550785856, 0.5930484952788027, 0.29652424763940133, 0.605625225836258, 0.302812612918129, 0.7404328188507191, 0.21155223395734832, 0.6581387077181118, 0.2632554830872447, 0.7060399881604235, 0.23534666272014115, 0.6445181715571997, 0.2578072686228799, 0.6309321012337, 0.31546605061685, 0.8125974604797794, 0.174128027245667, 0.6988619036355552, 0.23295396787851838, 0.0776513226261728, 0.6380755328716717, 0.382845319723003, 0.7052504932924912, 0.23508349776416373, 0.8287413471552532, 0.16574826943105064, 0.5844941630434449, 0.29224708152172246, 0.7735282124873222, 0.19338205312183054, 0.6969294719895467, 0.23230982399651556, 0.5965804018356691, 0.29829020091783454, 0.6306576924581335, 0.31532884622906676, 0.630662670349514, 0.315331335174757, 0.6212868271255201, 0.31064341356276004, 0.686982806247974, 0.2289942687493247, 0.5338975245898574, 0.400423143442393, 0.5718639245348791, 0.28593196226743955, 0.6001956322918767, 0.30009781614593833, 0.630860064335897, 0.3154300321679485, 0.6508651712400219, 0.2603460684960087, 0.6409642831043234, 0.3204821415521617, 0.675235690021106, 0.2893867242947597, 0.576760760348847, 0.2883803801744235, 0.7045653643240222, 0.23485512144134074, 0.6016052580744174, 0.3008026290372087, 0.590101934026808, 0.295050967013404, 0.7042097846166107, 0.28168391384664426, 0.610684402255218, 0.305342201127609, 0.64659881904148, 0.32329940952074, 0.6307312991026092, 0.3153656495513046, 0.6253156440193689, 0.37518938641162136, 0.6467260475898677, 0.32336302379493387, 0.7187792911473813, 0.17969482278684532, 0.7076778759443797, 0.23589262531479321, 0.6525990475913435, 0.21753301586378118, 0.5126463574019364, 0.42720529783494704, 0.7361034086195238, 0.2453678028731746, 0.6645891964539481, 0.33229459822697405, 0.6898462764457534, 0.22994875881525112, 0.7498519252557186, 0.2142434072159196, 0.6466370466872807, 0.32331852334364036, 0.6243714301309174, 0.3121857150654587, 0.5704923730768288, 0.2852461865384144, 0.6056050830880081, 0.30280254154400404, 0.6468406332857876, 0.3234203166428938, 0.6995012126522134, 0.19985748932920383, 0.7833470033349882, 0.21364009181863314, 0.07121336393954437, 0.6300531558704663, 0.2520212623481865, 0.6467225651697432, 0.3233612825848716, 0.646639132589963, 0.3233195662949815, 0.6645891964539481, 0.33229459822697405, 0.6276659445196437, 0.3138329722598219], \"Term\": [\"abhorrent\", \"abhorrent\", \"abms\", \"abms\", \"abundant\", \"abundant\", \"abuse\", \"abuse\", \"achievement\", \"achievement\", \"add\", \"add\", \"adversary\", \"adversary\", \"afternoon\", \"afternoon\", \"aggression\", \"aggression\", \"agree\", \"agree\", \"agreement\", \"agreement\", \"ahead\", \"ahead\", \"aide\", \"aide\", \"allegation\", \"allegation\", \"american_force\", \"american_force\", \"antiballistic\", \"antiballistic\", \"area\", \"area\", \"armament\", \"armament\", \"asia\", \"asia\", \"associate\", \"associate\", \"association\", \"association\", \"attorney_general\", \"attorney_general\", \"bitterness\", \"bitterness\", \"blackmail\", \"blackmail\", \"blessing\", \"blessing\", \"boil\", \"boil\", \"book\", \"book\", \"bother\", \"bother\", \"breakthrough\", \"breakthrough\", \"breath\", \"breath\", \"brew\", \"brew\", \"brother\", \"brother\", \"cabinet\", \"cabinet\", \"calendar\", \"calendar\", \"cambodia\", \"cambodia\", \"cambodia\", \"case\", \"case\", \"casualty\", \"casualty\", \"change\", \"change\", \"charge\", \"charge\", \"clemency\", \"clemency\", \"coalition\", \"coalition\", \"committee\", \"committee\", \"communist\", \"communist\", \"community\", \"community\", \"congress\", \"congress\", \"consciousness\", \"consciousness\", \"consecutive\", \"consecutive\", \"constitutional\", \"constitutional\", \"controversy\", \"controversy\", \"conversation\", \"conversation\", \"coverup\", \"coverup\", \"crime\", \"crime\", \"curtain\", \"curtain\", \"deadlock\", \"deadlock\", \"deadlocke\", \"deadlocke\", \"dealing\", \"dealing\", \"dean\", \"dean\", \"deceptively\", \"deceptively\", \"destiny\", \"destiny\", \"die\", \"die\", \"diplomacy\", \"diplomacy\", \"discourage\", \"discourage\", \"disruption\", \"disruption\", \"duty\", \"duty\", \"earth\", \"earth\", \"ehrlichman\", \"ehrlichman\", \"eligible\", \"eligible\", \"end_war\", \"end_war\", \"enemy\", \"enemy\", \"evidence\", \"evidence\", \"excess\", \"excess\", \"existence\", \"existence\", \"exploration\", \"exploration\", \"express\", \"express\", \"fact\", \"fact\", \"far_important\", \"far_important\", \"favorable\", \"favorable\", \"fiat\", \"fiat\", \"fighting\", \"fighting\", \"file\", \"file\", \"flourish\", \"flourish\", \"force\", \"force\", \"ford\", \"ford\", \"forever\", \"forever\", \"fortunate\", \"fortunate\", \"front\", \"front\", \"fulfil\", \"fulfil\", \"fulltime\", \"fulltime\", \"game\", \"game\", \"get\", \"get\", \"gossip\", \"gossip\", \"grand_jury\", \"grand_jury\", \"grip\", \"grip\", \"guilty\", \"guilty\", \"haldeman\", \"haldeman\", \"hang\", \"hang\", \"harassment\", \"harassment\", \"hardly\", \"hardly\", \"hate\", \"hate\", \"hatred\", \"hatred\", \"hearsay\", \"hearsay\", \"heart\", \"heart\", \"house\", \"house\", \"hunt\", \"hunt\", \"hutchinson\", \"hutchinson\", \"illegal\", \"illegal\", \"impact\", \"impact\", \"impasse\", \"impasse\", \"implication\", \"implication\", \"impose\", \"impose\", \"improperly\", \"improperly\", \"increase\", \"increase\", \"indochina\", \"indochina\", \"innuendo\", \"innuendo\", \"insinuation\", \"insinuation\", \"instinct\", \"instinct\", \"instruction\", \"instruction\", \"insult\", \"insult\", \"integrity\", \"integrity\", \"intelligence\", \"intelligence\", \"interpret\", \"interpret\", \"interrupt\", \"interrupt\", \"investigation\", \"investigation\", \"issue\", \"issue\", \"january\", \"january\", \"john_dean\", \"john_dean\", \"justify\", \"justify\", \"kinship\", \"kinship\", \"land\", \"land\", \"lastminute\", \"lastminute\", \"latin\", \"latin\", \"lawmaker\", \"lawmaker\", \"length\", \"length\", \"level\", \"level\", \"liddy\", \"liddy\", \"liddys\", \"liddys\", \"lightly\", \"lightly\", \"limitation\", \"limitation\", \"longer\", \"longer\", \"man_woman\", \"man_woman\", \"march\", \"march\", \"matter\", \"matter\", \"message\", \"message\", \"microcosm\", \"microcosm\", \"middle_east\", \"middle_east\", \"military\", \"military\", \"mind\", \"mind\", \"moscow\", \"moscow\", \"mystery\", \"mystery\", \"nail\", \"nail\", \"national_interest\", \"national_interest\", \"nato\", \"nato\", \"negotiation\", \"negotiation\", \"neighbor\", \"neighbor\", \"neutrality\", \"neutrality\", \"new\", \"new\", \"newscasts\", \"newscasts\", \"non\", \"non\", \"north_vietnam\", \"north_vietnam\", \"north_vietnamese\", \"north_vietnamese\", \"objectively\", \"objectively\", \"offensive\", \"offensive\", \"offer\", \"offer\", \"open\", \"open\", \"open_door\", \"open_door\", \"opponent\", \"opponent\", \"opportunity\", \"opportunity\", \"ordeal\", \"ordeal\", \"outbreak\", \"outbreak\", \"outer\", \"outer\", \"override\", \"override\", \"paris\", \"paris\", \"party\", \"party\", \"peace\", \"peace\", \"peace_honor\", \"peace_honor\", \"perjure\", \"perjure\", \"person\", \"person\", \"persuasive\", \"persuasive\", \"petersen\", \"petersen\", \"plan\", \"plan\", \"policy\", \"policy\", \"politic\", \"politic\", \"posture\", \"posture\", \"predominance\", \"predominance\", \"prejudice\", \"prejudice\", \"present\", \"present\", \"president\", \"president\", \"president_thieu\", \"president_thieu\", \"pretty\", \"pretty\", \"prime\", \"prime\", \"private\", \"private\", \"probably\", \"probably\", \"probe\", \"probe\", \"process\", \"process\", \"program\", \"program\", \"prolong\", \"prolong\", \"proposal\", \"proposal\", \"prosecutor\", \"prosecutor\", \"publicly\", \"publicly\", \"quarter\", \"quarter\", \"question\", \"question\", \"reelection\", \"reelection\", \"regard_watergate\", \"regard_watergate\", \"regardless\", \"regardless\", \"regional\", \"regional\", \"rehash\", \"rehash\", \"relation\", \"relation\", \"relevant\", \"relevant\", \"reluctant\", \"reluctant\", \"remotely\", \"remotely\", \"republic\", \"republic\", \"rodino\", \"rodino\", \"romania\", \"romania\", \"rumor\", \"rumor\", \"saint\", \"saint\", \"sanctuary\", \"sanctuary\", \"scene\", \"scene\", \"scheme\", \"scheme\", \"seep\", \"seep\", \"sensational\", \"sensational\", \"servant\", \"servant\", \"shaping\", \"shaping\", \"shoreham\", \"shoreham\", \"simple\", \"simple\", \"simultaneously\", \"simultaneously\", \"small\", \"small\", \"sober\", \"sober\", \"south_vietnam\", \"south_vietnam\", \"south_vietnamese\", \"south_vietnamese\", \"south_vietnamese\", \"staff\", \"staff\", \"stalemate\", \"stalemate\", \"statement\", \"statement\", \"story\", \"story\", \"strategic\", \"strategic\", \"strong\", \"strong\", \"subpoena\", \"subpoena\", \"suez\", \"suez\", \"surely\", \"surely\", \"surface\", \"surface\", \"tape\", \"tape\", \"temporary\", \"temporary\", \"temptation\", \"temptation\", \"tension\", \"tension\", \"threatened\", \"threatened\", \"timetable\", \"timetable\", \"tomorrow\", \"tomorrow\", \"transcript\", \"transcript\", \"transfer\", \"transfer\", \"translate\", \"translate\", \"treaty\", \"treaty\", \"triumph\", \"triumph\", \"unity\", \"unity\", \"unlock\", \"unlock\", \"unnamed\", \"unnamed\", \"unpopular\", \"unpopular\", \"urge\", \"urge\", \"vague\", \"vague\", \"victory\", \"victory\", \"vietnam\", \"vietnam\", \"voice\", \"voice\", \"vote\", \"vote\", \"want_end\", \"want_end\", \"war\", \"war\", \"watergate\", \"watergate\", \"weapon\", \"weapon\", \"weighing\", \"weighing\", \"well\", \"well\", \"western\", \"western\", \"white_house\", \"white_house\", \"wild\", \"wild\", \"withdraw\", \"withdraw\", \"withdrawal\", \"withdrawal\", \"withdrawal\", \"witness\", \"witness\", \"woods\", \"woods\", \"wrench\", \"wrench\", \"year\", \"year\", \"year_ago\", \"year_ago\"]}, \"R\": 30, \"lambda.step\": 0.01, \"plot.opts\": {\"xlab\": \"PC1\", \"ylab\": \"PC2\"}, \"topic.order\": [1, 2, 3, 4]};\n",
              "\n",
              "function LDAvis_load_lib(url, callback){\n",
              "  var s = document.createElement('script');\n",
              "  s.src = url;\n",
              "  s.async = true;\n",
              "  s.onreadystatechange = s.onload = callback;\n",
              "  s.onerror = function(){console.warn(\"failed to load library \" + url);};\n",
              "  document.getElementsByTagName(\"head\")[0].appendChild(s);\n",
              "}\n",
              "\n",
              "if(typeof(LDAvis) !== \"undefined\"){\n",
              "   // already loaded: just create the visualization\n",
              "   !function(LDAvis){\n",
              "       new LDAvis(\"#\" + \"ldavis_el3251401290772700968070739052\", ldavis_el3251401290772700968070739052_data);\n",
              "   }(LDAvis);\n",
              "}else if(typeof define === \"function\" && define.amd){\n",
              "   // require.js is available: use it to load d3/LDAvis\n",
              "   require.config({paths: {d3: \"https://d3js.org/d3.v5\"}});\n",
              "   require([\"d3\"], function(d3){\n",
              "      window.d3 = d3;\n",
              "      LDAvis_load_lib(\"https://cdn.jsdelivr.net/gh/bmabey/pyLDAvis@3.3.1/pyLDAvis/js/ldavis.v3.0.0.js\", function(){\n",
              "        new LDAvis(\"#\" + \"ldavis_el3251401290772700968070739052\", ldavis_el3251401290772700968070739052_data);\n",
              "      });\n",
              "    });\n",
              "}else{\n",
              "    // require.js not available: dynamically load d3 & LDAvis\n",
              "    LDAvis_load_lib(\"https://d3js.org/d3.v5.js\", function(){\n",
              "         LDAvis_load_lib(\"https://cdn.jsdelivr.net/gh/bmabey/pyLDAvis@3.3.1/pyLDAvis/js/ldavis.v3.0.0.js\", function(){\n",
              "                 new LDAvis(\"#\" + \"ldavis_el3251401290772700968070739052\", ldavis_el3251401290772700968070739052_data);\n",
              "            })\n",
              "         });\n",
              "}\n",
              "</script>"
            ],
            "text/plain": [
              "PreparedData(topic_coordinates=              x         y  topics  cluster       Freq\n",
              "topic                                                \n",
              "0      0.001304 -0.000104       1        1  64.139881\n",
              "1     -0.000088  0.000433       2        1  27.956121\n",
              "2     -0.000432 -0.000236       3        1   4.990630\n",
              "3     -0.000784 -0.000092       4        1   2.913367, topic_info=                  Term       Freq      Total Category  logprob  loglift\n",
              "1881          cambodia  10.000000  10.000000  Default  30.0000  30.0000\n",
              "3073         watergate  13.000000  13.000000  Default  29.0000  29.0000\n",
              "1465        withdrawal  14.000000  14.000000  Default  28.0000  28.0000\n",
              "1399  south_vietnamese  12.000000  12.000000  Default  27.0000  27.0000\n",
              "119           congress  12.000000  12.000000  Default  26.0000  26.0000\n",
              "...                ...        ...        ...      ...      ...      ...\n",
              "1448           vietnam   0.236800  16.956868   Topic4  -8.0748  -0.7354\n",
              "206               fact   0.230820  10.606306   Topic4  -8.1004  -0.2917\n",
              "741              enemy   0.231331  11.579846   Topic4  -8.0982  -0.3773\n",
              "418            politic   0.228490   9.598659   Topic4  -8.1106  -0.2020\n",
              "1398     south_vietnam   0.229083  17.228703   Topic4  -8.1080  -0.7844\n",
              "\n",
              "[349 rows x 6 columns], token_table=      Topic      Freq       Term\n",
              "term                            \n",
              "3660      1  0.610631  abhorrent\n",
              "3660      2  0.305315  abhorrent\n",
              "2532      1  0.814257       abms\n",
              "2532      2  0.180946       abms\n",
              "626       1  0.591034   abundant\n",
              "...     ...       ...        ...\n",
              "3658      2  0.323320     wrench\n",
              "622       1  0.664589       year\n",
              "622       2  0.332295       year\n",
              "1467      1  0.627666   year_ago\n",
              "1467      2  0.313833   year_ago\n",
              "\n",
              "[557 rows x 3 columns], R=30, lambda_step=0.01, plot_opts={'xlab': 'PC1', 'ylab': 'PC2'}, topic_order=[1, 2, 3, 4])"
            ]
          },
          "metadata": {},
          "execution_count": 15
        }
      ]
    },
    {
      "cell_type": "code",
      "metadata": {
        "id": "iDvr39McA17b",
        "colab": {
          "base_uri": "https://localhost:8080/",
          "height": 1000
        },
        "outputId": "bc0b2212-c659-4716-ffd7-bcec558bba9b"
      },
      "source": [
        "!pip install streamlit"
      ],
      "execution_count": null,
      "outputs": [
        {
          "output_type": "stream",
          "name": "stdout",
          "text": [
            "Collecting streamlit\n",
            "  Downloading streamlit-1.2.0-py2.py3-none-any.whl (9.1 MB)\n",
            "\u001b[K     |████████████████████████████████| 9.1 MB 5.0 MB/s \n",
            "\u001b[?25hRequirement already satisfied: altair>=3.2.0 in /usr/local/lib/python3.7/dist-packages (from streamlit) (4.1.0)\n",
            "Requirement already satisfied: cachetools>=4.0 in /usr/local/lib/python3.7/dist-packages (from streamlit) (4.2.4)\n",
            "Collecting blinker\n",
            "  Downloading blinker-1.4.tar.gz (111 kB)\n",
            "\u001b[K     |████████████████████████████████| 111 kB 46.3 MB/s \n",
            "\u001b[?25hCollecting base58\n",
            "  Downloading base58-2.1.1-py3-none-any.whl (5.6 kB)\n",
            "Collecting gitpython!=3.1.19\n",
            "  Downloading GitPython-3.1.24-py3-none-any.whl (180 kB)\n",
            "\u001b[K     |████████████████████████████████| 180 kB 46.5 MB/s \n",
            "\u001b[?25hRequirement already satisfied: pyarrow in /usr/local/lib/python3.7/dist-packages (from streamlit) (3.0.0)\n",
            "Collecting pympler>=0.9\n",
            "  Downloading Pympler-0.9.tar.gz (178 kB)\n",
            "\u001b[K     |████████████████████████████████| 178 kB 17.4 MB/s \n",
            "\u001b[?25hRequirement already satisfied: tzlocal in /usr/local/lib/python3.7/dist-packages (from streamlit) (1.5.1)\n",
            "Requirement already satisfied: numpy in /usr/local/lib/python3.7/dist-packages (from streamlit) (1.21.4)\n",
            "Requirement already satisfied: pillow>=6.2.0 in /usr/local/lib/python3.7/dist-packages (from streamlit) (7.1.2)\n",
            "Collecting pydeck>=0.1.dev5\n",
            "  Downloading pydeck-0.7.1-py2.py3-none-any.whl (4.3 MB)\n",
            "\u001b[K     |████████████████████████████████| 4.3 MB 30.8 MB/s \n",
            "\u001b[?25hRequirement already satisfied: packaging in /usr/local/lib/python3.7/dist-packages (from streamlit) (21.3)\n",
            "Collecting validators\n",
            "  Downloading validators-0.18.2-py3-none-any.whl (19 kB)\n",
            "Requirement already satisfied: astor in /usr/local/lib/python3.7/dist-packages (from streamlit) (0.8.1)\n",
            "Requirement already satisfied: pandas>=0.21.0 in /usr/local/lib/python3.7/dist-packages (from streamlit) (1.3.4)\n",
            "Requirement already satisfied: python-dateutil in /usr/local/lib/python3.7/dist-packages (from streamlit) (2.8.2)\n",
            "Requirement already satisfied: requests in /usr/local/lib/python3.7/dist-packages (from streamlit) (2.23.0)\n",
            "Collecting watchdog\n",
            "  Downloading watchdog-2.1.6-py3-none-manylinux2014_x86_64.whl (76 kB)\n",
            "\u001b[K     |████████████████████████████████| 76 kB 4.3 MB/s \n",
            "\u001b[?25hRequirement already satisfied: attrs in /usr/local/lib/python3.7/dist-packages (from streamlit) (21.2.0)\n",
            "Requirement already satisfied: click<8.0,>=7.0 in /usr/local/lib/python3.7/dist-packages (from streamlit) (7.1.2)\n",
            "Requirement already satisfied: toml in /usr/local/lib/python3.7/dist-packages (from streamlit) (0.10.2)\n",
            "Requirement already satisfied: tornado>=5.0 in /usr/local/lib/python3.7/dist-packages (from streamlit) (5.1.1)\n",
            "Requirement already satisfied: protobuf!=3.11,>=3.6.0 in /usr/local/lib/python3.7/dist-packages (from streamlit) (3.17.3)\n",
            "Requirement already satisfied: jsonschema in /usr/local/lib/python3.7/dist-packages (from altair>=3.2.0->streamlit) (2.6.0)\n",
            "Requirement already satisfied: entrypoints in /usr/local/lib/python3.7/dist-packages (from altair>=3.2.0->streamlit) (0.3)\n",
            "Requirement already satisfied: jinja2 in /usr/local/lib/python3.7/dist-packages (from altair>=3.2.0->streamlit) (2.11.3)\n",
            "Requirement already satisfied: toolz in /usr/local/lib/python3.7/dist-packages (from altair>=3.2.0->streamlit) (0.11.2)\n",
            "Collecting gitdb<5,>=4.0.1\n",
            "  Downloading gitdb-4.0.9-py3-none-any.whl (63 kB)\n",
            "\u001b[K     |████████████████████████████████| 63 kB 1.6 MB/s \n",
            "\u001b[?25hRequirement already satisfied: typing-extensions>=3.7.4.3 in /usr/local/lib/python3.7/dist-packages (from gitpython!=3.1.19->streamlit) (3.10.0.2)\n",
            "Collecting smmap<6,>=3.0.1\n",
            "  Downloading smmap-5.0.0-py3-none-any.whl (24 kB)\n",
            "Requirement already satisfied: pytz>=2017.3 in /usr/local/lib/python3.7/dist-packages (from pandas>=0.21.0->streamlit) (2018.9)\n",
            "Requirement already satisfied: six>=1.9 in /usr/local/lib/python3.7/dist-packages (from protobuf!=3.11,>=3.6.0->streamlit) (1.15.0)\n",
            "Collecting ipykernel>=5.1.2\n",
            "  Downloading ipykernel-6.6.0-py3-none-any.whl (126 kB)\n",
            "\u001b[K     |████████████████████████████████| 126 kB 64.9 MB/s \n",
            "\u001b[?25hRequirement already satisfied: ipywidgets>=7.0.0 in /usr/local/lib/python3.7/dist-packages (from pydeck>=0.1.dev5->streamlit) (7.6.5)\n",
            "Requirement already satisfied: traitlets>=4.3.2 in /usr/local/lib/python3.7/dist-packages (from pydeck>=0.1.dev5->streamlit) (5.1.1)\n",
            "Requirement already satisfied: argcomplete>=1.12.3 in /usr/local/lib/python3.7/dist-packages (from ipykernel>=5.1.2->pydeck>=0.1.dev5->streamlit) (1.12.3)\n",
            "Requirement already satisfied: debugpy<2.0,>=1.0.0 in /usr/local/lib/python3.7/dist-packages (from ipykernel>=5.1.2->pydeck>=0.1.dev5->streamlit) (1.0.0)\n",
            "Requirement already satisfied: importlib-metadata<5 in /usr/local/lib/python3.7/dist-packages (from ipykernel>=5.1.2->pydeck>=0.1.dev5->streamlit) (4.8.2)\n",
            "Requirement already satisfied: jupyter-client<8.0 in /usr/local/lib/python3.7/dist-packages (from ipykernel>=5.1.2->pydeck>=0.1.dev5->streamlit) (5.3.5)\n",
            "Collecting ipython>=7.23.1\n",
            "  Downloading ipython-7.30.0-py3-none-any.whl (791 kB)\n",
            "\u001b[K     |████████████████████████████████| 791 kB 58.6 MB/s \n",
            "\u001b[?25hRequirement already satisfied: matplotlib-inline<0.2.0,>=0.1.0 in /usr/local/lib/python3.7/dist-packages (from ipykernel>=5.1.2->pydeck>=0.1.dev5->streamlit) (0.1.3)\n",
            "Requirement already satisfied: zipp>=0.5 in /usr/local/lib/python3.7/dist-packages (from importlib-metadata<5->ipykernel>=5.1.2->pydeck>=0.1.dev5->streamlit) (3.6.0)\n",
            "Requirement already satisfied: decorator in /usr/local/lib/python3.7/dist-packages (from ipython>=7.23.1->ipykernel>=5.1.2->pydeck>=0.1.dev5->streamlit) (4.4.2)\n",
            "Collecting prompt-toolkit!=3.0.0,!=3.0.1,<3.1.0,>=2.0.0\n",
            "  Downloading prompt_toolkit-3.0.23-py3-none-any.whl (374 kB)\n",
            "\u001b[K     |████████████████████████████████| 374 kB 69.5 MB/s \n",
            "\u001b[?25hRequirement already satisfied: pexpect>4.3 in /usr/local/lib/python3.7/dist-packages (from ipython>=7.23.1->ipykernel>=5.1.2->pydeck>=0.1.dev5->streamlit) (4.8.0)\n",
            "Requirement already satisfied: setuptools>=18.5 in /usr/local/lib/python3.7/dist-packages (from ipython>=7.23.1->ipykernel>=5.1.2->pydeck>=0.1.dev5->streamlit) (57.4.0)\n",
            "Requirement already satisfied: jedi>=0.16 in /usr/local/lib/python3.7/dist-packages (from ipython>=7.23.1->ipykernel>=5.1.2->pydeck>=0.1.dev5->streamlit) (0.18.1)\n",
            "Requirement already satisfied: pygments in /usr/local/lib/python3.7/dist-packages (from ipython>=7.23.1->ipykernel>=5.1.2->pydeck>=0.1.dev5->streamlit) (2.6.1)\n",
            "Requirement already satisfied: backcall in /usr/local/lib/python3.7/dist-packages (from ipython>=7.23.1->ipykernel>=5.1.2->pydeck>=0.1.dev5->streamlit) (0.2.0)\n",
            "Requirement already satisfied: pickleshare in /usr/local/lib/python3.7/dist-packages (from ipython>=7.23.1->ipykernel>=5.1.2->pydeck>=0.1.dev5->streamlit) (0.7.5)\n",
            "Requirement already satisfied: widgetsnbextension~=3.5.0 in /usr/local/lib/python3.7/dist-packages (from ipywidgets>=7.0.0->pydeck>=0.1.dev5->streamlit) (3.5.2)\n",
            "Requirement already satisfied: jupyterlab-widgets>=1.0.0 in /usr/local/lib/python3.7/dist-packages (from ipywidgets>=7.0.0->pydeck>=0.1.dev5->streamlit) (1.0.2)\n",
            "Requirement already satisfied: ipython-genutils~=0.2.0 in /usr/local/lib/python3.7/dist-packages (from ipywidgets>=7.0.0->pydeck>=0.1.dev5->streamlit) (0.2.0)\n",
            "Requirement already satisfied: nbformat>=4.2.0 in /usr/local/lib/python3.7/dist-packages (from ipywidgets>=7.0.0->pydeck>=0.1.dev5->streamlit) (5.1.3)\n",
            "Requirement already satisfied: parso<0.9.0,>=0.8.0 in /usr/local/lib/python3.7/dist-packages (from jedi>=0.16->ipython>=7.23.1->ipykernel>=5.1.2->pydeck>=0.1.dev5->streamlit) (0.8.2)\n",
            "Requirement already satisfied: MarkupSafe>=0.23 in /usr/local/lib/python3.7/dist-packages (from jinja2->altair>=3.2.0->streamlit) (2.0.1)\n",
            "Requirement already satisfied: pyzmq>=13 in /usr/local/lib/python3.7/dist-packages (from jupyter-client<8.0->ipykernel>=5.1.2->pydeck>=0.1.dev5->streamlit) (22.3.0)\n",
            "Requirement already satisfied: jupyter-core>=4.6.0 in /usr/local/lib/python3.7/dist-packages (from jupyter-client<8.0->ipykernel>=5.1.2->pydeck>=0.1.dev5->streamlit) (4.9.1)\n",
            "Requirement already satisfied: ptyprocess>=0.5 in /usr/local/lib/python3.7/dist-packages (from pexpect>4.3->ipython>=7.23.1->ipykernel>=5.1.2->pydeck>=0.1.dev5->streamlit) (0.7.0)\n",
            "Requirement already satisfied: wcwidth in /usr/local/lib/python3.7/dist-packages (from prompt-toolkit!=3.0.0,!=3.0.1,<3.1.0,>=2.0.0->ipython>=7.23.1->ipykernel>=5.1.2->pydeck>=0.1.dev5->streamlit) (0.2.5)\n",
            "Requirement already satisfied: notebook>=4.4.1 in /usr/local/lib/python3.7/dist-packages (from widgetsnbextension~=3.5.0->ipywidgets>=7.0.0->pydeck>=0.1.dev5->streamlit) (5.3.1)\n",
            "Requirement already satisfied: Send2Trash in /usr/local/lib/python3.7/dist-packages (from notebook>=4.4.1->widgetsnbextension~=3.5.0->ipywidgets>=7.0.0->pydeck>=0.1.dev5->streamlit) (1.8.0)\n",
            "Requirement already satisfied: terminado>=0.8.1 in /usr/local/lib/python3.7/dist-packages (from notebook>=4.4.1->widgetsnbextension~=3.5.0->ipywidgets>=7.0.0->pydeck>=0.1.dev5->streamlit) (0.12.1)\n",
            "Requirement already satisfied: nbconvert in /usr/local/lib/python3.7/dist-packages (from notebook>=4.4.1->widgetsnbextension~=3.5.0->ipywidgets>=7.0.0->pydeck>=0.1.dev5->streamlit) (5.6.1)\n",
            "Requirement already satisfied: testpath in /usr/local/lib/python3.7/dist-packages (from nbconvert->notebook>=4.4.1->widgetsnbextension~=3.5.0->ipywidgets>=7.0.0->pydeck>=0.1.dev5->streamlit) (0.5.0)\n",
            "Requirement already satisfied: bleach in /usr/local/lib/python3.7/dist-packages (from nbconvert->notebook>=4.4.1->widgetsnbextension~=3.5.0->ipywidgets>=7.0.0->pydeck>=0.1.dev5->streamlit) (4.1.0)\n",
            "Requirement already satisfied: mistune<2,>=0.8.1 in /usr/local/lib/python3.7/dist-packages (from nbconvert->notebook>=4.4.1->widgetsnbextension~=3.5.0->ipywidgets>=7.0.0->pydeck>=0.1.dev5->streamlit) (0.8.4)\n",
            "Requirement already satisfied: defusedxml in /usr/local/lib/python3.7/dist-packages (from nbconvert->notebook>=4.4.1->widgetsnbextension~=3.5.0->ipywidgets>=7.0.0->pydeck>=0.1.dev5->streamlit) (0.7.1)\n",
            "Requirement already satisfied: pandocfilters>=1.4.1 in /usr/local/lib/python3.7/dist-packages (from nbconvert->notebook>=4.4.1->widgetsnbextension~=3.5.0->ipywidgets>=7.0.0->pydeck>=0.1.dev5->streamlit) (1.5.0)\n",
            "Requirement already satisfied: webencodings in /usr/local/lib/python3.7/dist-packages (from bleach->nbconvert->notebook>=4.4.1->widgetsnbextension~=3.5.0->ipywidgets>=7.0.0->pydeck>=0.1.dev5->streamlit) (0.5.1)\n",
            "Requirement already satisfied: pyparsing!=3.0.5,>=2.0.2 in /usr/local/lib/python3.7/dist-packages (from packaging->streamlit) (3.0.6)\n",
            "Requirement already satisfied: idna<3,>=2.5 in /usr/local/lib/python3.7/dist-packages (from requests->streamlit) (2.10)\n",
            "Requirement already satisfied: chardet<4,>=3.0.2 in /usr/local/lib/python3.7/dist-packages (from requests->streamlit) (3.0.4)\n",
            "Requirement already satisfied: urllib3!=1.25.0,!=1.25.1,<1.26,>=1.21.1 in /usr/local/lib/python3.7/dist-packages (from requests->streamlit) (1.24.3)\n",
            "Requirement already satisfied: certifi>=2017.4.17 in /usr/local/lib/python3.7/dist-packages (from requests->streamlit) (2021.10.8)\n",
            "Building wheels for collected packages: pympler, blinker\n",
            "  Building wheel for pympler (setup.py) ... \u001b[?25l\u001b[?25hdone\n",
            "  Created wheel for pympler: filename=Pympler-0.9-py3-none-any.whl size=164824 sha256=5ac772dcdba37cef1f6cb56293c8ef47ce60a05e6370fcd0aa9aa43010855112\n",
            "  Stored in directory: /root/.cache/pip/wheels/1a/f3/d8/35d5614ea4ddd295ffb9372a5f2f9570d9593d1ea4be33ec6d\n",
            "  Building wheel for blinker (setup.py) ... \u001b[?25l\u001b[?25hdone\n",
            "  Created wheel for blinker: filename=blinker-1.4-py3-none-any.whl size=13478 sha256=603b48b38362564b715692491ec50c1b00af1de85c3b4e6c1fc56e627b1325ee\n",
            "  Stored in directory: /root/.cache/pip/wheels/22/f5/18/df711b66eb25b21325c132757d4314db9ac5e8dabeaf196eab\n",
            "Successfully built pympler blinker\n",
            "Installing collected packages: prompt-toolkit, ipython, ipykernel, smmap, gitdb, watchdog, validators, pympler, pydeck, gitpython, blinker, base58, streamlit\n",
            "  Attempting uninstall: prompt-toolkit\n",
            "    Found existing installation: prompt-toolkit 1.0.18\n",
            "    Uninstalling prompt-toolkit-1.0.18:\n",
            "      Successfully uninstalled prompt-toolkit-1.0.18\n",
            "  Attempting uninstall: ipython\n",
            "    Found existing installation: ipython 5.5.0\n",
            "    Uninstalling ipython-5.5.0:\n",
            "      Successfully uninstalled ipython-5.5.0\n",
            "  Attempting uninstall: ipykernel\n",
            "    Found existing installation: ipykernel 4.10.1\n",
            "    Uninstalling ipykernel-4.10.1:\n",
            "      Successfully uninstalled ipykernel-4.10.1\n",
            "\u001b[31mERROR: pip's dependency resolver does not currently take into account all the packages that are installed. This behaviour is the source of the following dependency conflicts.\n",
            "jupyter-console 5.2.0 requires prompt-toolkit<2.0.0,>=1.0.0, but you have prompt-toolkit 3.0.23 which is incompatible.\n",
            "google-colab 1.0.0 requires ipykernel~=4.10, but you have ipykernel 6.6.0 which is incompatible.\n",
            "google-colab 1.0.0 requires ipython~=5.5.0, but you have ipython 7.30.0 which is incompatible.\n",
            "google-colab 1.0.0 requires pandas~=1.1.0; python_version >= \"3.0\", but you have pandas 1.3.4 which is incompatible.\u001b[0m\n",
            "Successfully installed base58-2.1.1 blinker-1.4 gitdb-4.0.9 gitpython-3.1.24 ipykernel-6.6.0 ipython-7.30.0 prompt-toolkit-3.0.23 pydeck-0.7.1 pympler-0.9 smmap-5.0.0 streamlit-1.2.0 validators-0.18.2 watchdog-2.1.6\n"
          ]
        },
        {
          "output_type": "display_data",
          "data": {
            "application/vnd.colab-display-data+json": {
              "pip_warning": {
                "packages": [
                  "IPython",
                  "ipykernel",
                  "prompt_toolkit"
                ]
              }
            }
          },
          "metadata": {}
        }
      ]
    },
    {
      "cell_type": "code",
      "metadata": {
        "id": "P9F38is3A19x",
        "colab": {
          "base_uri": "https://localhost:8080/",
          "height": 312
        },
        "outputId": "3787c508-617d-4dbf-90db-53de567972bf"
      },
      "source": [
        "import streamlit as st"
      ],
      "execution_count": null,
      "outputs": [
        {
          "output_type": "error",
          "ename": "ContextualVersionConflict",
          "evalue": "ignored",
          "traceback": [
            "\u001b[0;31m---------------------------------------------------------------------------\u001b[0m",
            "\u001b[0;31mContextualVersionConflict\u001b[0m                 Traceback (most recent call last)",
            "\u001b[0;32m<ipython-input-18-1aa3dc4fa683>\u001b[0m in \u001b[0;36m<module>\u001b[0;34m()\u001b[0m\n\u001b[0;32m----> 1\u001b[0;31m \u001b[0;32mimport\u001b[0m \u001b[0mstreamlit\u001b[0m \u001b[0;32mas\u001b[0m \u001b[0mst\u001b[0m\u001b[0;34m\u001b[0m\u001b[0;34m\u001b[0m\u001b[0m\n\u001b[0m",
            "\u001b[0;32m/usr/local/lib/python3.7/dist-packages/streamlit/__init__.py\u001b[0m in \u001b[0;36m<module>\u001b[0;34m()\u001b[0m\n\u001b[1;32m     58\u001b[0m \u001b[0;31m# This used to be pkg_resources.require('streamlit') but it would cause\u001b[0m\u001b[0;34m\u001b[0m\u001b[0;34m\u001b[0m\u001b[0;34m\u001b[0m\u001b[0m\n\u001b[1;32m     59\u001b[0m \u001b[0;31m# pex files to fail. See #394 for more details.\u001b[0m\u001b[0;34m\u001b[0m\u001b[0;34m\u001b[0m\u001b[0;34m\u001b[0m\u001b[0m\n\u001b[0;32m---> 60\u001b[0;31m \u001b[0m__version__\u001b[0m \u001b[0;34m=\u001b[0m \u001b[0m_pkg_resources\u001b[0m\u001b[0;34m.\u001b[0m\u001b[0mget_distribution\u001b[0m\u001b[0;34m(\u001b[0m\u001b[0;34m\"streamlit\"\u001b[0m\u001b[0;34m)\u001b[0m\u001b[0;34m.\u001b[0m\u001b[0mversion\u001b[0m\u001b[0;34m\u001b[0m\u001b[0;34m\u001b[0m\u001b[0m\n\u001b[0m\u001b[1;32m     61\u001b[0m \u001b[0;34m\u001b[0m\u001b[0m\n\u001b[1;32m     62\u001b[0m \u001b[0;32mimport\u001b[0m \u001b[0mcontextlib\u001b[0m \u001b[0;32mas\u001b[0m \u001b[0m_contextlib\u001b[0m\u001b[0;34m\u001b[0m\u001b[0;34m\u001b[0m\u001b[0m\n",
            "\u001b[0;32m/usr/local/lib/python3.7/dist-packages/pkg_resources/__init__.py\u001b[0m in \u001b[0;36mget_distribution\u001b[0;34m(dist)\u001b[0m\n\u001b[1;32m    464\u001b[0m         \u001b[0mdist\u001b[0m \u001b[0;34m=\u001b[0m \u001b[0mRequirement\u001b[0m\u001b[0;34m.\u001b[0m\u001b[0mparse\u001b[0m\u001b[0;34m(\u001b[0m\u001b[0mdist\u001b[0m\u001b[0;34m)\u001b[0m\u001b[0;34m\u001b[0m\u001b[0;34m\u001b[0m\u001b[0m\n\u001b[1;32m    465\u001b[0m     \u001b[0;32mif\u001b[0m \u001b[0misinstance\u001b[0m\u001b[0;34m(\u001b[0m\u001b[0mdist\u001b[0m\u001b[0;34m,\u001b[0m \u001b[0mRequirement\u001b[0m\u001b[0;34m)\u001b[0m\u001b[0;34m:\u001b[0m\u001b[0;34m\u001b[0m\u001b[0;34m\u001b[0m\u001b[0m\n\u001b[0;32m--> 466\u001b[0;31m         \u001b[0mdist\u001b[0m \u001b[0;34m=\u001b[0m \u001b[0mget_provider\u001b[0m\u001b[0;34m(\u001b[0m\u001b[0mdist\u001b[0m\u001b[0;34m)\u001b[0m\u001b[0;34m\u001b[0m\u001b[0;34m\u001b[0m\u001b[0m\n\u001b[0m\u001b[1;32m    467\u001b[0m     \u001b[0;32mif\u001b[0m \u001b[0;32mnot\u001b[0m \u001b[0misinstance\u001b[0m\u001b[0;34m(\u001b[0m\u001b[0mdist\u001b[0m\u001b[0;34m,\u001b[0m \u001b[0mDistribution\u001b[0m\u001b[0;34m)\u001b[0m\u001b[0;34m:\u001b[0m\u001b[0;34m\u001b[0m\u001b[0;34m\u001b[0m\u001b[0m\n\u001b[1;32m    468\u001b[0m         \u001b[0;32mraise\u001b[0m \u001b[0mTypeError\u001b[0m\u001b[0;34m(\u001b[0m\u001b[0;34m\"Expected string, Requirement, or Distribution\"\u001b[0m\u001b[0;34m,\u001b[0m \u001b[0mdist\u001b[0m\u001b[0;34m)\u001b[0m\u001b[0;34m\u001b[0m\u001b[0;34m\u001b[0m\u001b[0m\n",
            "\u001b[0;32m/usr/local/lib/python3.7/dist-packages/pkg_resources/__init__.py\u001b[0m in \u001b[0;36mget_provider\u001b[0;34m(moduleOrReq)\u001b[0m\n\u001b[1;32m    340\u001b[0m     \u001b[0;34m\"\"\"Return an IResourceProvider for the named module or requirement\"\"\"\u001b[0m\u001b[0;34m\u001b[0m\u001b[0;34m\u001b[0m\u001b[0m\n\u001b[1;32m    341\u001b[0m     \u001b[0;32mif\u001b[0m \u001b[0misinstance\u001b[0m\u001b[0;34m(\u001b[0m\u001b[0mmoduleOrReq\u001b[0m\u001b[0;34m,\u001b[0m \u001b[0mRequirement\u001b[0m\u001b[0;34m)\u001b[0m\u001b[0;34m:\u001b[0m\u001b[0;34m\u001b[0m\u001b[0;34m\u001b[0m\u001b[0m\n\u001b[0;32m--> 342\u001b[0;31m         \u001b[0;32mreturn\u001b[0m \u001b[0mworking_set\u001b[0m\u001b[0;34m.\u001b[0m\u001b[0mfind\u001b[0m\u001b[0;34m(\u001b[0m\u001b[0mmoduleOrReq\u001b[0m\u001b[0;34m)\u001b[0m \u001b[0;32mor\u001b[0m \u001b[0mrequire\u001b[0m\u001b[0;34m(\u001b[0m\u001b[0mstr\u001b[0m\u001b[0;34m(\u001b[0m\u001b[0mmoduleOrReq\u001b[0m\u001b[0;34m)\u001b[0m\u001b[0;34m)\u001b[0m\u001b[0;34m[\u001b[0m\u001b[0;36m0\u001b[0m\u001b[0;34m]\u001b[0m\u001b[0;34m\u001b[0m\u001b[0;34m\u001b[0m\u001b[0m\n\u001b[0m\u001b[1;32m    343\u001b[0m     \u001b[0;32mtry\u001b[0m\u001b[0;34m:\u001b[0m\u001b[0;34m\u001b[0m\u001b[0;34m\u001b[0m\u001b[0m\n\u001b[1;32m    344\u001b[0m         \u001b[0mmodule\u001b[0m \u001b[0;34m=\u001b[0m \u001b[0msys\u001b[0m\u001b[0;34m.\u001b[0m\u001b[0mmodules\u001b[0m\u001b[0;34m[\u001b[0m\u001b[0mmoduleOrReq\u001b[0m\u001b[0;34m]\u001b[0m\u001b[0;34m\u001b[0m\u001b[0;34m\u001b[0m\u001b[0m\n",
            "\u001b[0;32m/usr/local/lib/python3.7/dist-packages/pkg_resources/__init__.py\u001b[0m in \u001b[0;36mrequire\u001b[0;34m(self, *requirements)\u001b[0m\n\u001b[1;32m    884\u001b[0m         \u001b[0mincluded\u001b[0m\u001b[0;34m,\u001b[0m \u001b[0meven\u001b[0m \u001b[0;32mif\u001b[0m \u001b[0mthey\u001b[0m \u001b[0mwere\u001b[0m \u001b[0malready\u001b[0m \u001b[0mactivated\u001b[0m \u001b[0;32min\u001b[0m \u001b[0mthis\u001b[0m \u001b[0mworking\u001b[0m \u001b[0mset\u001b[0m\u001b[0;34m.\u001b[0m\u001b[0;34m\u001b[0m\u001b[0;34m\u001b[0m\u001b[0m\n\u001b[1;32m    885\u001b[0m         \"\"\"\n\u001b[0;32m--> 886\u001b[0;31m         \u001b[0mneeded\u001b[0m \u001b[0;34m=\u001b[0m \u001b[0mself\u001b[0m\u001b[0;34m.\u001b[0m\u001b[0mresolve\u001b[0m\u001b[0;34m(\u001b[0m\u001b[0mparse_requirements\u001b[0m\u001b[0;34m(\u001b[0m\u001b[0mrequirements\u001b[0m\u001b[0;34m)\u001b[0m\u001b[0;34m)\u001b[0m\u001b[0;34m\u001b[0m\u001b[0;34m\u001b[0m\u001b[0m\n\u001b[0m\u001b[1;32m    887\u001b[0m \u001b[0;34m\u001b[0m\u001b[0m\n\u001b[1;32m    888\u001b[0m         \u001b[0;32mfor\u001b[0m \u001b[0mdist\u001b[0m \u001b[0;32min\u001b[0m \u001b[0mneeded\u001b[0m\u001b[0;34m:\u001b[0m\u001b[0;34m\u001b[0m\u001b[0;34m\u001b[0m\u001b[0m\n",
            "\u001b[0;32m/usr/local/lib/python3.7/dist-packages/pkg_resources/__init__.py\u001b[0m in \u001b[0;36mresolve\u001b[0;34m(self, requirements, env, installer, replace_conflicting, extras)\u001b[0m\n\u001b[1;32m    775\u001b[0m                 \u001b[0;31m# Oops, the \"best\" so far conflicts with a dependency\u001b[0m\u001b[0;34m\u001b[0m\u001b[0;34m\u001b[0m\u001b[0;34m\u001b[0m\u001b[0m\n\u001b[1;32m    776\u001b[0m                 \u001b[0mdependent_req\u001b[0m \u001b[0;34m=\u001b[0m \u001b[0mrequired_by\u001b[0m\u001b[0;34m[\u001b[0m\u001b[0mreq\u001b[0m\u001b[0;34m]\u001b[0m\u001b[0;34m\u001b[0m\u001b[0;34m\u001b[0m\u001b[0m\n\u001b[0;32m--> 777\u001b[0;31m                 \u001b[0;32mraise\u001b[0m \u001b[0mVersionConflict\u001b[0m\u001b[0;34m(\u001b[0m\u001b[0mdist\u001b[0m\u001b[0;34m,\u001b[0m \u001b[0mreq\u001b[0m\u001b[0;34m)\u001b[0m\u001b[0;34m.\u001b[0m\u001b[0mwith_context\u001b[0m\u001b[0;34m(\u001b[0m\u001b[0mdependent_req\u001b[0m\u001b[0;34m)\u001b[0m\u001b[0;34m\u001b[0m\u001b[0;34m\u001b[0m\u001b[0m\n\u001b[0m\u001b[1;32m    778\u001b[0m \u001b[0;34m\u001b[0m\u001b[0m\n\u001b[1;32m    779\u001b[0m             \u001b[0;31m# push the new requirements onto the stack\u001b[0m\u001b[0;34m\u001b[0m\u001b[0;34m\u001b[0m\u001b[0;34m\u001b[0m\u001b[0m\n",
            "\u001b[0;31mContextualVersionConflict\u001b[0m: (ipykernel 4.10.1 (/usr/local/lib/python3.7/dist-packages), Requirement.parse('ipykernel>=5.1.2; python_version >= \"3.4\"'), {'pydeck'})"
          ]
        }
      ]
    },
    {
      "cell_type": "code",
      "metadata": {
        "id": "B_KqJ9DC_VTJ"
      },
      "source": [
        ""
      ],
      "execution_count": null,
      "outputs": []
    }
  ]
}